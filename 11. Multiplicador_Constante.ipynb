{
 "cells": [
  {
   "cell_type": "markdown",
   "id": "adc15439",
   "metadata": {},
   "source": [
    "# Método Multiplicador Constante\n",
    "6AM1  \n",
    "Suárez Pérez Juan Pablo"
   ]
  },
  {
   "cell_type": "markdown",
   "id": "3f39a993",
   "metadata": {},
   "source": [
    "El algoritmo de multiplicador constante es un método simple para generar números pseudoaleatorios. Utiliza una semilla inicial y un multiplicador constante para producir una secuencia de números aleatorios.  \n",
    "**Procedimiento**:  \n",
    "\n",
    "1. **Semilla y Multiplicador:**\n",
    "   - Comienza con una semilla inicial ($X_0$) y un multiplicador constante ($a$). La longitud ($n$) de la semilla debe ser conocida.\n",
    "\n",
    "2. **Multiplicación:**\n",
    "   - Multiplica la semilla por el multiplicador ($X_0 \\times a$). Esto dará como resultado un número que puede tener más de $n$ dígitos.\n",
    "\n",
    "3. **Extracción del nuevo número:**\n",
    "   - Si el resultado tiene más de $n$ dígitos, extrae los $n$ dígitos del medio del producto. Este número se convierte en el nuevo valor de la semilla ($X_1$).\n",
    "\n",
    "4. **Normalización:**\n",
    "   - Divide $X_1$ por $10^n$ para obtener un número decimal entre 0 y 1.\n",
    "\n",
    "5. **Iteración:**\n",
    "   - Repite los pasos 2-4 utilizando el nuevo valor de la semilla para generar más números aleatorios.\n",
    "\n",
    "6. **Finalización:**\n",
    "   - Repite el proceso hasta generar la cantidad deseada de números aleatorios.\n",
    "\n",
    "**Consideraciones**:  \n",
    "\n",
    "- La elección de la semilla inicial y del multiplicador es importante para asegurar una buena dispersión de los números aleatorios generados.\n",
    "- Al igual que otros métodos, puede comenzar a repetir números después de un cierto número de iteraciones.\n",
    "- Es un método simple y fácil de implementar, pero no es el más eficiente para simulaciones complejas."
   ]
  },
  {
   "cell_type": "code",
   "execution_count": 1,
   "id": "c1eeec25",
   "metadata": {},
   "outputs": [],
   "source": [
    "# Definición del método de Cuadrados Medios.\n",
    "def middle_square_method(seed, a, n, normalized = True):\n",
    "    \"\"\"\n",
    "        Función Generadora de pseudonúmeros aleatorios \n",
    "        por el método de Cuadrados Medios. \n",
    "        Entrada: seed, seed_2, n, normialized.\n",
    "        Salida: random_list\n",
    "    \"\"\"\n",
    "    # Validación de semilla.\n",
    "    t = len(str(seed))\n",
    "    assert t % 2 == 0 and t > 3, \"Se requiere un número con digitos pares, con el número de dígitos mayor a 3.\"\n",
    "   \n",
    "    # Inicialización de pseudonúmeros aleatorios.\n",
    "    random_list = list()\n",
    "    \n",
    "    # Iteración de n números.\n",
    "    for _ in range(n):\n",
    "        # Elevación de la semilla al cuadrado.\n",
    "        square_value = str(seed ** a)\n",
    "        # Validación del cuadrado.\n",
    "        while(len(square_value) < 2 * t):\n",
    "            square_value = '0' + square_value\n",
    "        # Obtención de los dígitos del centro.\n",
    "        initial_index = len(square_value) // t\n",
    "        random_value = int(square_value[initial_index:initial_index + t])\n",
    "        # Normalización.\n",
    "        if normalized:\n",
    "            random_value = random_value / (1 * 10 ** t)\n",
    "        # Anexión de valores a lista de pseudonúmeros aleatorios.\n",
    "        random_list.append(random_value)\n",
    "        # Remplazo de semilla.\n",
    "        seed = int(square_value[initial_index:initial_index + t])\n",
    "    \n",
    "    # Retorno de lista de pseudonúmeros aleatorios.\n",
    "    return random_list"
   ]
  },
  {
   "cell_type": "code",
   "execution_count": 2,
   "id": "dd956b5f",
   "metadata": {},
   "outputs": [],
   "source": [
    "# Valores inciales.\n",
    "seed = 1033\n",
    "seed_2 = 2557"
   ]
  },
  {
   "cell_type": "code",
   "execution_count": 3,
   "id": "288b60ea",
   "metadata": {},
   "outputs": [
    {
     "name": "stdout",
     "output_type": "stream",
     "text": [
      "[0.7093, 0.3229, 0.4554, 0.5407, 0.5916, 0.5057, 0.2413, 0.4817, 0.0947, 0.6161]\n"
     ]
    }
   ],
   "source": [
    "# Implementación con normalización, con 10 muestras.\n",
    "random_list = middle_square_method(seed, seed_2, 10)\n",
    "print(random_list)"
   ]
  },
  {
   "cell_type": "code",
   "execution_count": 4,
   "id": "e2b91345",
   "metadata": {},
   "outputs": [
    {
     "name": "stdout",
     "output_type": "stream",
     "text": [
      "[7093, 3229, 4554, 5407, 5916, 5057, 2413, 4817, 947, 6161]\n"
     ]
    }
   ],
   "source": [
    "# Implementación con normalización, con 10 muestras.\n",
    "random_list = middle_square_method(seed, seed_2, 10, False)\n",
    "print(random_list)"
   ]
  }
 ],
 "metadata": {
  "kernelspec": {
   "display_name": "Python 3 (ipykernel)",
   "language": "python",
   "name": "python3"
  },
  "language_info": {
   "codemirror_mode": {
    "name": "ipython",
    "version": 3
   },
   "file_extension": ".py",
   "mimetype": "text/x-python",
   "name": "python",
   "nbconvert_exporter": "python",
   "pygments_lexer": "ipython3",
   "version": "3.9.12"
  }
 },
 "nbformat": 4,
 "nbformat_minor": 5
}
