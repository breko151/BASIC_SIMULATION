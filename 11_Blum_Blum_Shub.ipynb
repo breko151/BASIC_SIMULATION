{
 "cells": [
  {
   "cell_type": "markdown",
   "id": "9807465f",
   "metadata": {},
   "source": [
    "# Blum Blum Shub\n",
    "**Date:**   \n",
    "16/10/2023  \n",
    "**Authors:**  \n",
    "- Ojeda Contreras Braulio Melquisedec  \n",
    "- Suárez Pérez Juan Pablo"
   ]
  },
  {
   "cell_type": "markdown",
   "id": "68f09019",
   "metadata": {},
   "source": [
    "### Description:\n",
    "\n",
    "The Blum Blum Shub algorithm is a pseudorandom number generator that uses modular exponentiation and is known for its security in cryptographic applications.\n",
    "\n",
    "### Procedure:\n",
    "\n",
    "1. **Parameters:**\n",
    "    - Select two large prime numbers $p$ and $q$ such that $p \\equiv 3 (\\mod 4)$ and $q \\equiv 3 (\\mod 4)$.\n",
    "    - Calculate $m = p \\times q$.\n",
    "    - Choose a seed $X_0$ coprime with $m$ (i.e., $ \\gcd(X_0, m) = 1 $).\n",
    "\n",
    "2. **Calculation:**\n",
    "    - Calculate the following value ($X_1$) using the formula:\n",
    "      $$\n",
    "      X_{n+1} = X_n^2 \\mod m\n",
    "      $$\n",
    "    - This will result in an integer between $0$ and $m-1$.\n",
    "\n",
    "3. **Normalization:**\n",
    "    - Divide $X_1$ by $m$ to get a decimal number between $0$ and $1$.\n",
    "\n",
    "4. **Iteration:**\n",
    "    - Use $X_1$ as the new seed ($X_0$) and repeat steps 2-3 to generate more random numbers.\n",
    "\n",
    "5. **Completion:**\n",
    "    - Repeat the process until the desired number of random numbers are generated.\n",
    "\n",
    "### Considerations:\n",
    "\n",
    "- The choice of $p$ and $q$ is crucial for the safety of the generator. They must be large prime numbers and unknown to an outside observer.\n",
    "- The initial seed $X_0$ should also be chosen carefully.\n",
    "- Although it is a safe method, it can be slower than other random number generators due to the need to perform modular exponentiation.\n",
    "- It is especially useful in contexts where security is a major concern, such as in cryptography."
   ]
  },
  {
   "cell_type": "code",
   "execution_count": 1,
   "id": "c2dffa4d",
   "metadata": {},
   "outputs": [],
   "source": [
    "# Import libraries needed.\n",
    "from simulation.generators import generator_blum_blum_shub as g_b_b_s"
   ]
  },
  {
   "cell_type": "code",
   "execution_count": 2,
   "id": "60240ff4",
   "metadata": {},
   "outputs": [
    {
     "name": "stdout",
     "output_type": "stream",
     "text": [
      "[0.11688311688311688, 0.05194805194805195, 0.2077922077922078, 0.3246753246753247, 0.11688311688311688]\n"
     ]
    }
   ],
   "source": [
    "# 10 samples with Blum blum y Shub\n",
    "resultado_blum_blum_shub = g_b_b_s(3, 11, 7, 5)\n",
    "print(resultado_blum_blum_shub)"
   ]
  }
 ],
 "metadata": {
  "kernelspec": {
   "display_name": "Python 3 (ipykernel)",
   "language": "python",
   "name": "python3"
  },
  "language_info": {
   "codemirror_mode": {
    "name": "ipython",
    "version": 3
   },
   "file_extension": ".py",
   "mimetype": "text/x-python",
   "name": "python",
   "nbconvert_exporter": "python",
   "pygments_lexer": "ipython3",
   "version": "3.11.5"
  }
 },
 "nbformat": 4,
 "nbformat_minor": 5
}
