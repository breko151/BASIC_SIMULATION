{
 "cells": [
  {
   "cell_type": "markdown",
   "id": "47db43b0",
   "metadata": {},
   "source": [
    "# RANDU\n",
    "Suárez Pérez Juan Pablo"
   ]
  },
  {
   "cell_type": "markdown",
   "id": "3809eb26",
   "metadata": {},
   "source": [
    "$$X_{n+1} = 2 ^{16} + 3 X_n mod2^{31}$$"
   ]
  },
  {
   "cell_type": "code",
   "execution_count": 1,
   "id": "0f5e7f03",
   "metadata": {},
   "outputs": [],
   "source": [
    "# Definición del método de RANDU.\n",
    "def RANDU_method(seed, n, normalized = True):\n",
    "    \"\"\"\n",
    "        Función Generadora de pseudonúmeros aleatorios \n",
    "        por el método de RANDU. \n",
    "        Entrada: seed, a, c, m, n, normalized.\n",
    "        Salida: random_list\n",
    "    \"\"\"\n",
    "    \n",
    "    # Inicialización de pseudonúmeros aleatorios.\n",
    "    random_list = list()\n",
    "    \n",
    "    # Iteración de n números.\n",
    "    for _ in range(n):\n",
    "        # RANDU.\n",
    "        x_i = (2 ** 16 + 3) * seed % 2 ** 31\n",
    "        random_value = x_i\n",
    "        # Normalización.\n",
    "        if normalized:\n",
    "            random_value = random_value / 2 ** 31\n",
    "        # Anexión de valores a lista de pseudonúmeros aleatorios.\n",
    "        random_list.append(random_value)\n",
    "        # Remplazo de semilla.\n",
    "        seed = x_i\n",
    "    \n",
    "    # Retorno de lista de pseudonúmeros aleatorios.\n",
    "    return random_list"
   ]
  },
  {
   "cell_type": "code",
   "execution_count": 2,
   "id": "d3b1d85a",
   "metadata": {},
   "outputs": [],
   "source": [
    "# Valores iniciales.\n",
    "seed = 87"
   ]
  },
  {
   "cell_type": "code",
   "execution_count": 3,
   "id": "f526bb63",
   "metadata": {},
   "outputs": [
    {
     "name": "stdout",
     "output_type": "stream",
     "text": [
      "[5701893, 34210575, 153946413, 615783303, 161698453, 1870591935, 1178330941, 972076471, 1669931301, 1270899567]\n"
     ]
    }
   ],
   "source": [
    "# Implementación sin normalización.\n",
    "random_list = RANDU_method(seed, 10, False)\n",
    "print(random_list)"
   ]
  },
  {
   "cell_type": "code",
   "execution_count": 4,
   "id": "c804bfe6",
   "metadata": {},
   "outputs": [
    {
     "name": "stdout",
     "output_type": "stream",
     "text": [
      "[0.0026551508344709873, 0.015930540394037962, 0.07168688485398889, 0.28674644557759166, 0.07529670977964997, 0.8710622484795749, 0.5487031028605998, 0.45265838084742427, 0.7776223593391478, 0.5918087284080684]\n"
     ]
    }
   ],
   "source": [
    "# Implementación con normalización.\n",
    "random_list = RANDU_method(seed, 10)\n",
    "print(random_list)"
   ]
  }
 ],
 "metadata": {
  "kernelspec": {
   "display_name": "Python 3 (ipykernel)",
   "language": "python",
   "name": "python3"
  },
  "language_info": {
   "codemirror_mode": {
    "name": "ipython",
    "version": 3
   },
   "file_extension": ".py",
   "mimetype": "text/x-python",
   "name": "python",
   "nbconvert_exporter": "python",
   "pygments_lexer": "ipython3",
   "version": "3.9.12"
  }
 },
 "nbformat": 4,
 "nbformat_minor": 5
}
