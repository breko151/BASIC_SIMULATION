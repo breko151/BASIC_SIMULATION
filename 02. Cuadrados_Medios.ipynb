{
 "cells": [
  {
   "cell_type": "markdown",
   "id": "bde46649",
   "metadata": {},
   "source": [
    "# Método de Cuadrados Medios\n",
    "6AM1  \n",
    "Suárez Pérez Juan Pablo"
   ]
  },
  {
   "cell_type": "markdown",
   "id": "2554b2a7",
   "metadata": {},
   "source": [
    "El método genera una secuencia de pseudonúmeros aleatorios, de la siguiente forma.  \n",
    "1. Seleccionar semilla (generalmente un número dígitos pares mayor a 3). Es el punto de partida para la generación.  \n",
    "2. Elevar al cuadrado el número.  \n",
    "3. Seleccionar los t dígitos del resultado de elevar al cuadrado. Si se requiere, utilizar 0 como posición inicial.  \n",
    "4. Repetir el proceso, escoger la parte central coo la nueva semilla. "
   ]
  },
  {
   "cell_type": "code",
   "execution_count": 1,
   "id": "a07584aa",
   "metadata": {},
   "outputs": [],
   "source": [
    "# Definición del método de Cuadrados Medios.\n",
    "def middle_square_method(seed, n, normalized = True):\n",
    "    \"\"\"\n",
    "        Función Generadora de pseudonúmeros aleatorios \n",
    "        por el método de Cuadrados Medios. \n",
    "        Entrada: seed, n, normialized.\n",
    "        Salida: random_list\n",
    "    \"\"\"\n",
    "    # Validación de semilla.\n",
    "    t = len(str(seed))\n",
    "    assert t % 2 == 0 and t > 3, \"Se requiere un número con digitos pares, con el número de dígitos mayor a 3.\"\n",
    "   \n",
    "    # Inicialización de pseudonúmeros aleatorios.\n",
    "    random_list = list()\n",
    "    \n",
    "    # Iteración de n números.\n",
    "    for _ in range(n):\n",
    "        # Elevación de la semilla al cuadrado.\n",
    "        square_value = str(seed ** 2)\n",
    "        # Validación del cuadrado.\n",
    "        while(len(square_value) < 2 * t):\n",
    "            square_value = '0' + square_value\n",
    "        # Obtención de los dígitos del centro.\n",
    "        initial_index = len(square_value) // t\n",
    "        random_value = int(square_value[initial_index:initial_index + t])\n",
    "        # Normalización.\n",
    "        if normalized:\n",
    "            random_value = random_value / (1 * 10 ** t)\n",
    "        # Anexión de valores a lista de pseudonúmeros aleatorios.\n",
    "        random_list.append(random_value)\n",
    "        # Remplazo de semilla.\n",
    "        seed = int(square_value[initial_index:initial_index + t])\n",
    "    \n",
    "    # Retorno de lista de pseudonúmeros aleatorios.\n",
    "    return random_list"
   ]
  },
  {
   "cell_type": "code",
   "execution_count": 2,
   "id": "8794b0cf",
   "metadata": {},
   "outputs": [],
   "source": [
    "# Valores inciales.\n",
    "seed = 1033"
   ]
  },
  {
   "cell_type": "code",
   "execution_count": 3,
   "id": "a8733a4f",
   "metadata": {},
   "outputs": [
    {
     "name": "stdout",
     "output_type": "stream",
     "text": [
      "[0.067, 0.4489, 0.1511, 0.2831, 0.0145, 0.021, 0.0441, 0.1944, 0.7791, 0.6996]\n"
     ]
    }
   ],
   "source": [
    "# Implementación con normalización, con 10 muestras.\n",
    "random_list = middle_square_method(seed, 10)\n",
    "print(random_list)"
   ]
  },
  {
   "cell_type": "code",
   "execution_count": 4,
   "id": "992cee8e",
   "metadata": {},
   "outputs": [
    {
     "name": "stdout",
     "output_type": "stream",
     "text": [
      "[670, 4489, 1511, 2831, 145, 210, 441, 1944, 7791, 6996]\n"
     ]
    }
   ],
   "source": [
    "# Implementación con normalización, con 10 muestras.\n",
    "random_list = middle_square_method(seed, 10, False)\n",
    "print(random_list)"
   ]
  }
 ],
 "metadata": {
  "kernelspec": {
   "display_name": "Python 3 (ipykernel)",
   "language": "python",
   "name": "python3"
  },
  "language_info": {
   "codemirror_mode": {
    "name": "ipython",
    "version": 3
   },
   "file_extension": ".py",
   "mimetype": "text/x-python",
   "name": "python",
   "nbconvert_exporter": "python",
   "pygments_lexer": "ipython3",
   "version": "3.11.5"
  }
 },
 "nbformat": 4,
 "nbformat_minor": 5
}
