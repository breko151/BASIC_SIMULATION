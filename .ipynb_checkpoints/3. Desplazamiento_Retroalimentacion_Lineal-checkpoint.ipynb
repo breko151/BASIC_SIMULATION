{
 "cells": [
  {
   "cell_type": "markdown",
   "id": "ea1b488f",
   "metadata": {},
   "source": [
    "# Método de Desplazamiento de Retroalimentación Lineal\n",
    "6AM1\n",
    "Suárez Pérez Juan Pablo"
   ]
  },
  {
   "cell_type": "markdown",
   "id": "42c6d47f",
   "metadata": {},
   "source": [
    "Es un método para la generación de secuencia de números pseudoaleatorios, son comúnmente utilizados en aplicaciones criptográficas, generación de cósigos de secuencia y pruebas de patrones, entreo otros usos.  \n",
    "\n",
    "Los pasos de LFSR son los siguientes:  \n",
    "1. Estado Inicial: Estado actual del registro.\n",
    "2. Retroalimentaicón: Calcular el próximo bit de la secuencia. \n",
    "3. Desplazamiento: El LFSR desplaza todos los bits hacia la derecha y el nuebo bit de salida se coloca en la posición más la izquierda del registro.\n",
    "4. Repetición: Se repite cada iteración para generar una secuencia continua de bits.\n",
    "5. Salida: El bit de salida se utiliza como un número pseudoaletorio."
   ]
  },
  {
   "cell_type": "code",
   "execution_count": 1,
   "id": "2dd6312b",
   "metadata": {},
   "outputs": [],
   "source": [
    "# Abstracción del Desplazamiento de Retroalimentación Lineal.\n",
    "class LFSR:\n",
    "    \"\"\"\n",
    "        Generador de Desplazamiento de Retroalimentación Lineal.\n",
    "        Entrada: Seed, Taps.\n",
    "    \"\"\"\n",
    "    \n",
    "    # Incialización Clase.\n",
    "    def __init__(self, seed, taps):\n",
    "        # Incialización de bandera.\n",
    "        flag = True\n",
    "        # Validación de la semilla.\n",
    "            # Convertimos semilla a binario.\n",
    "        seed_bin = bin(seed)\n",
    "            # Convertimos en arreglo\n",
    "        seed_list = [int(i) for i in seed_bin[2:]]\n",
    "            # Validamos que sea una cantidad mayor o igual 8 bits.\n",
    "        while len(seed_list) < 8:\n",
    "            seed_list = [0] + seed_list\n",
    "            # Validación de los taps.\n",
    "        if len(taps) > len(seed_list):\n",
    "            flag = False\n",
    "        for i in taps:\n",
    "            if i >= len(seed_list):\n",
    "                flag = False\n",
    "        assert flag, \"Los taps son incorrectos. Asegurate de poner posiciones correctas.\"\n",
    "        # Mandamos la semilla convertida al state.\n",
    "        self.state = seed_list\n",
    "        # Posiciones de retroalimentación.\n",
    "        self.taps = taps \n",
    "    \n",
    "    # Obtención de feedback_bit.\n",
    "    def shift(self):\n",
    "        # Operación xor.\n",
    "        feedback_bit = sum(self.state[i] for i in self.taps) % 2\n",
    "        # Actualización del State.\n",
    "        self.state = [feedback_bit] + self.state[:-1]\n",
    "        return feedback_bit\n",
    "    \n",
    "    # Conversor a decimal.\n",
    "    def generate_decimal(self, num_bits = 8):\n",
    "        decimal_value = 0\n",
    "        for _ in range(num_bits):\n",
    "            decimal_value = (decimal_value << 1) | self.shift()\n",
    "        return decimal_value"
   ]
  },
  {
   "cell_type": "code",
   "execution_count": 2,
   "id": "869236ea",
   "metadata": {},
   "outputs": [],
   "source": [
    "def lfsr_method(seed, taps, n, num_bits = 8, normalized = True):\n",
    "    \"\"\"\n",
    "        Implementación del método LFSR, generando números en su \n",
    "        forma decimal.\n",
    "        Entrada: seed, taps, n, num_bits, normalized.\n",
    "        Salida: random_list\n",
    "    \"\"\"\n",
    "    # Inicialización de números pseudoaletorios.\n",
    "    random_list = list()\n",
    "    # Inicialización de Objeto LFSR.\n",
    "    lfsr = LFSR(seed, taps)\n",
    "    # Generación de valores pseudoaletorios.\n",
    "    for _ in range(n):\n",
    "        # Generación de valor.\n",
    "        random_value = lfsr.generate_decimal(num_bits)\n",
    "        # Normalización del valor.\n",
    "        if normalized:\n",
    "            max_value = 2 ** 8 - 1\n",
    "            random_value = random_value / max_value\n",
    "        # Anexión de los valores.\n",
    "        random_list.append(random_value)\n",
    "    return random_list"
   ]
  },
  {
   "cell_type": "code",
   "execution_count": 3,
   "id": "23ee824f",
   "metadata": {},
   "outputs": [],
   "source": [
    "# Valores iniciales. \n",
    "seed = 42\n",
    "taps = [3, 0]"
   ]
  },
  {
   "cell_type": "code",
   "execution_count": 4,
   "id": "025cc8c2",
   "metadata": {},
   "outputs": [
    {
     "name": "stdout",
     "output_type": "stream",
     "text": [
      "[0.47843137254901963, 0.7843137254901961, 0.9607843137254902, 0.5686274509803921, 0.9215686274509803, 0.13725490196078433, 0.8392156862745098, 0.2784313725490196, 0.6745098039215687, 0.5607843137254902]\n"
     ]
    }
   ],
   "source": [
    "# Implementación con normalización, con 10 muestras.\n",
    "random_list = lfsr_method(seed, taps, 10)\n",
    "print(random_list)"
   ]
  },
  {
   "cell_type": "code",
   "execution_count": 5,
   "id": "71089b0f",
   "metadata": {},
   "outputs": [
    {
     "name": "stdout",
     "output_type": "stream",
     "text": [
      "[122, 200, 245, 145, 235, 35, 214, 71, 172, 143]\n"
     ]
    }
   ],
   "source": [
    "# Implementación sin normalización, con 10 muestras.\n",
    "random_list = lfsr_method(seed, taps, 10, normalized = False)\n",
    "print(random_list)"
   ]
  }
 ],
 "metadata": {
  "kernelspec": {
   "display_name": "Python 3 (ipykernel)",
   "language": "python",
   "name": "python3"
  },
  "language_info": {
   "codemirror_mode": {
    "name": "ipython",
    "version": 3
   },
   "file_extension": ".py",
   "mimetype": "text/x-python",
   "name": "python",
   "nbconvert_exporter": "python",
   "pygments_lexer": "ipython3",
   "version": "3.9.12"
  }
 },
 "nbformat": 4,
 "nbformat_minor": 5
}
