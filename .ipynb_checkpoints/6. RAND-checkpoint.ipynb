{
 "cells": [
  {
   "cell_type": "markdown",
   "id": "fcb8e0f2",
   "metadata": {},
   "source": [
    "# RAND\n",
    "Suárez Pérez Juan Pablo"
   ]
  },
  {
   "cell_type": "markdown",
   "id": "60a813cc",
   "metadata": {},
   "source": [
    "$$X_{n+1} = (7^5)X_nmod(2^{31}-1)$$"
   ]
  },
  {
   "cell_type": "code",
   "execution_count": 1,
   "id": "754b560e",
   "metadata": {},
   "outputs": [],
   "source": [
    "# Definición del método de RAND.\n",
    "def RAND_method(seed, n, normalized = True):\n",
    "    \"\"\"\n",
    "        Función Generadora de pseudonúmeros aleatorios \n",
    "        por el método de RAND. \n",
    "        Entrada: seed, a, c, m, n, normalized.\n",
    "        Salida: random_list\n",
    "    \"\"\"\n",
    "    \n",
    "    # Inicialización de pseudonúmeros aleatorios.\n",
    "    random_list = list()\n",
    "    \n",
    "    # Iteración de n números.\n",
    "    for _ in range(n):\n",
    "        # RAND.\n",
    "        x_i = (7 ** 5) * seed % (2 ** 31 - 1)\n",
    "        random_value = x_i\n",
    "        # Normalización.\n",
    "        if normalized:\n",
    "            random_value = random_value / (2 ** 31 - 1)\n",
    "        # Anexión de valores a lista de pseudonúmeros aleatorios.\n",
    "        random_list.append(random_value)\n",
    "        # Remplazo de semilla.\n",
    "        seed = x_i\n",
    "    \n",
    "    # Retorno de lista de pseudonúmeros aleatorios.\n",
    "    return random_list"
   ]
  },
  {
   "cell_type": "code",
   "execution_count": 2,
   "id": "072fd2b5",
   "metadata": {},
   "outputs": [],
   "source": [
    "# Valores iniciales.\n",
    "seed = 87"
   ]
  },
  {
   "cell_type": "code",
   "execution_count": 3,
   "id": "b96cdf08",
   "metadata": {},
   "outputs": [
    {
     "name": "stdout",
     "output_type": "stream",
     "text": [
      "[0.0006808941255700281, 0.4437875684554631, 0.7376630309678908, 0.902561477340088, 0.35074965485872217, 0.04944921054386031, 0.09288161066029296, 0.06123036754374875, 0.09878730778525924, 0.3182819468520032]\n"
     ]
    }
   ],
   "source": [
    "# Implementación con normalización.\n",
    "random_list = RAND_method(seed, 10)\n",
    "print(random_list)"
   ]
  },
  {
   "cell_type": "code",
   "execution_count": 4,
   "id": "991229d4",
   "metadata": {},
   "outputs": [
    {
     "name": "stdout",
     "output_type": "stream",
     "text": [
      "[1462209, 953026546, 1584119296, 1938236013, 753229148, 106191371, 199461740, 131491213, 212144128, 683505276]\n"
     ]
    }
   ],
   "source": [
    "# Implementación con normalización.\n",
    "random_list = RAND_method(seed, 10, False)\n",
    "print(random_list)"
   ]
  }
 ],
 "metadata": {
  "kernelspec": {
   "display_name": "Python 3 (ipykernel)",
   "language": "python",
   "name": "python3"
  },
  "language_info": {
   "codemirror_mode": {
    "name": "ipython",
    "version": 3
   },
   "file_extension": ".py",
   "mimetype": "text/x-python",
   "name": "python",
   "nbconvert_exporter": "python",
   "pygments_lexer": "ipython3",
   "version": "3.9.12"
  }
 },
 "nbformat": 4,
 "nbformat_minor": 5
}
