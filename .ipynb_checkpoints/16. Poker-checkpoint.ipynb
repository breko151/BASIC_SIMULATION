{
 "cells": [
  {
   "cell_type": "markdown",
   "id": "9a66e752",
   "metadata": {},
   "source": [
    "Distancias  \n",
    "Poker  \n",
    "Seires  \n",
    "Huecos"
   ]
  },
  {
   "cell_type": "markdown",
   "id": "6bf27c6c",
   "metadata": {},
   "source": [
    "$H_0\\rightarrow$ #' Independientes.  \n",
    "$H_A\\rightarrow$ #' no son independietes."
   ]
  },
  {
   "cell_type": "markdown",
   "id": "29985840",
   "metadata": {},
   "source": [
    "Esta prueba consiste en visualizar el número $r_i$ con 3,4 o 5 decimales (Como si fuera una mano del juego de poker, con 5 cartas) y clasificarlo como:  \n",
    "1. Todos diferentes. TD\n",
    "2. Exactamente un par. 1P\n",
    "3. 2 pares. 2P\n",
    "4. Una tercia. T\n",
    "5. Una tercia y un par. TP\n",
    "6. Poker. P\n",
    "7. Quintilla. Q"
   ]
  },
  {
   "cell_type": "markdown",
   "id": "be1dfd8d",
   "metadata": {},
   "source": [
    "Poker 3 deicimales  \n",
    "Cat, Prob, E_i  \n",
    "TD, 0.72, 0.72 * n  \n",
    "1P, 0.27, 0.27 * n  \n",
    "T, 0.01, 0.01 * n  \n",
    "\n",
    "Poker 4 decimales  \n",
    "Td 0.5040, * n  \n",
    "1p 0.4320, * n  \n",
    "2p 0.0270,  * n  \n",
    "t 0.0360, * n  \n",
    "p 0.0010, * n  \n",
    "\n",
    "Poker 5 decimales  \n",
    "td, 0.3024  \n",
    "1p, 0.5040  \n",
    "2p, 0.1080  \n",
    "tp, 0.0090  \n",
    "t 0.0720  \n",
    "p 0.0045  \n",
    "q 0.0001"
   ]
  },
  {
   "cell_type": "markdown",
   "id": "ca6a4fb5",
   "metadata": {},
   "source": [
    "Prueba de Poker  \n",
    "1. Determinar la categoria de cada número del conjunto \"r\".  \n",
    "2. Contabilizar los números $r_i$ de la misma categoría o clase para obtener la frecuencia observada. \n",
    "$$x_0^2=\\sum_{i=1}^{n}\\frac^{{(F_a-F_E_i)^2}_{F_E_i} < x_{E, m - 1}^2 $$"
   ]
  },
  {
   "cell_type": "markdown",
   "id": "84768d40",
   "metadata": {},
   "source": [
    "30 números(0,1)\n",
    "Con 5 decimales.\n",
    "[0.06141, 0.72484, 0.94107, 0.56766, 0.14411, 0.87648, 0.81792, 0.48999, 0.18590, 0.06060, 0.11223, 064794, 0.52953, 0.50502. 0.30444, 0.70688, 0.25357, 0.31555, 0.04127, 0.7347, 0.28103, 0.99367, 0.44598, 0.73997, 0.27813, 0.62182, 0.82578, 0.85923, 0.51483, 0.09099]"
   ]
  },
  {
   "cell_type": "code",
   "execution_count": 1,
   "id": "76c1db41",
   "metadata": {},
   "outputs": [],
   "source": [
    "import numpy as np\n",
    "from scipy import stats"
   ]
  },
  {
   "cell_type": "code",
   "execution_count": 8,
   "id": "55e7b84e",
   "metadata": {},
   "outputs": [],
   "source": [
    "arreglo = [0.06141, 0.72484, 0.94107, 0.56766, 0.14411, \n",
    "           0.87648, 0.81792, 0.48999, 0.18590, 0.06060, \n",
    "           0.11223, 0.64794, 0.52953, 0.50502, 0.30444, \n",
    "           0.70688, 0.25357, 0.31555, 0.04127, 0.73470, \n",
    "           0.28103, 0.99367, 0.44598, 0.73997, 0.27813, \n",
    "           0.62182, 0.82578, 0.85923, 0.51483, 0.09099]"
   ]
  },
  {
   "cell_type": "code",
   "execution_count": 38,
   "id": "f9bac471",
   "metadata": {},
   "outputs": [],
   "source": [
    "def poker(arreglo, alpha = 0.05):\n",
    "    # Incialización de valores\n",
    "    longitudes = list()\n",
    "    for num in arreglo:\n",
    "        longitudes.append(len(str(num)[2:]))\n",
    "    n_decimales = max(longitudes)\n",
    "    arreglo_str = list()\n",
    "    suma = 0\n",
    "    for num in arreglo:\n",
    "        str_num = str(num)\n",
    "        while len(str_num[2:]) < n_decimales:\n",
    "            str_num = str_num + '0'\n",
    "        arreglo_str.append(str_num)\n",
    "    dict_valores = dict()\n",
    "    if n_decimales == 3:\n",
    "        dict_valores[\"TD\"] = 0.72\n",
    "        dict_valores[\"1P\"] = 0.27\n",
    "        dict_valores[\"T\"] =  0.01\n",
    "        clasificados = clasificador(arreglo_str, dict_valores)\n",
    "        ei = {k: v * len(arreglo) for k, v in dict_valores.items()}\n",
    "        xs = dict()\n",
    "        for k in ei.keys():\n",
    "            xs[k] = (ei[k] - dict_valores[k]) ** 2 / ei[k]\n",
    "        for v in xs.values():\n",
    "            suma += v\n",
    "    elif n_decimales == 4:\n",
    "        dict_valores[\"TD\"] = 0.5040\n",
    "        dict_valores[\"1P\"] = 0.4320\n",
    "        dict_valores[\"2P\"] = 0.0270\n",
    "        dict_valores[\"T\"] = 0.0360\n",
    "        dict_valores[\"P\"] = 0.0010\n",
    "        clasificados = clasificador(arreglo_str, dict_valores)\n",
    "        ei = {k: v * len(arreglo) for k, v in dict_valores.items()}\n",
    "        xs = dict()\n",
    "        for k in ei.keys():\n",
    "            xs[k] = (ei[k] - dict_valores[k]) ** 2 / ei[k]\n",
    "        for v in xs.values():\n",
    "            suma += v\n",
    "    elif n_decimales == 5:\n",
    "        dict_valores[\"TD\"] = 0.3024\n",
    "        dict_valores[\"1P\"] = 0.5040\n",
    "        dict_valores[\"2P\"] = 0.1080\n",
    "        dict_valores[\"TP\"] = 0.0090\n",
    "        dict_valores[\"T\"] = 0.0720\n",
    "        dict_valores[\"P\"] = 0.0045\n",
    "        dict_valores[\"Q\"] = 0.0001\n",
    "        clasificados = clasificador(arreglo_str, dict_valores)\n",
    "        ei = {k: v * len(arreglo) for k, v in dict_valores.items()}\n",
    "        xs = dict()\n",
    "        for k in ei.keys():\n",
    "            xs[k] = (ei[k] - dict_valores[k]) ** 2 / ei[k]\n",
    "        for v in xs.values():\n",
    "            suma += v\n",
    "    chi = stats.chi2.ppf(1 - alpha, n_decimales +  1)\n",
    "    print(\"Suma:\", suma)\n",
    "    print(\"Chi^2:\", chi)\n",
    "    if suma < chi:\n",
    "        return True\n",
    "    else:\n",
    "        return False"
   ]
  },
  {
   "cell_type": "code",
   "execution_count": 32,
   "id": "8e6212c8",
   "metadata": {},
   "outputs": [],
   "source": [
    "def clasificador(arreglo, diccionario):\n",
    "    nuevo_diccionario = dict()\n",
    "    for k in diccionario.keys():\n",
    "        nuevo_diccionario[k] = 0\n",
    "    for numero in arreglo:\n",
    "        str_numero = numero[2:]\n",
    "        list_numero = np.array([int(i) for i in str_numero])\n",
    "        valores_unicos, conteos = np.unique(list_numero, return_counts = True)\n",
    "        if len(conteos) == len(str(numero)[2:]):\n",
    "            nuevo_diccionario[\"TD\"] = nuevo_diccionario[\"TD\"] + 1\n",
    "        elif 2 in conteos:\n",
    "            if list(conteos).count(3) == 1:\n",
    "                nuevo_diccionario[\"TP\"] = nuevo_diccionario[\"TP\"] + 1 \n",
    "            else:\n",
    "                if list(conteos).count(2) == 1:\n",
    "                    nuevo_diccionario[\"1P\"] = nuevo_diccionario[\"1P\"] + 1\n",
    "                elif list(conteos).count(2) == 2:\n",
    "                    nuevo_diccionario[\"2P\"] = nuevo_diccionario[\"2P\"] + 1\n",
    "        elif 3 in conteos:\n",
    "            if list(conteos).count(2) == 0:\n",
    "                nuevo_diccionario[\"T\"] = nuevo_diccionario[\"T\"] + 1   \n",
    "        elif 4 in conteos:\n",
    "            nuevo_diccionario[\"P\"] = nuevo_diccionario[\"P\"] + 1\n",
    "        elif 5 in conteos:\n",
    "            nuevo_diccionario[\"Q\"] = nuevo_diccionario[\"Q\"] + 1\n",
    "    return nuevo_diccionario"
   ]
  },
  {
   "cell_type": "code",
   "execution_count": 39,
   "id": "b82e6446",
   "metadata": {},
   "outputs": [
    {
     "name": "stdout",
     "output_type": "stream",
     "text": [
      "Suma: 28.033333333333328\n",
      "Chi^2: 12.591587243743977\n"
     ]
    },
    {
     "data": {
      "text/plain": [
       "False"
      ]
     },
     "execution_count": 39,
     "metadata": {},
     "output_type": "execute_result"
    }
   ],
   "source": [
    "poker(arreglo)"
   ]
  }
 ],
 "metadata": {
  "kernelspec": {
   "display_name": "Python 3 (ipykernel)",
   "language": "python",
   "name": "python3"
  },
  "language_info": {
   "codemirror_mode": {
    "name": "ipython",
    "version": 3
   },
   "file_extension": ".py",
   "mimetype": "text/x-python",
   "name": "python",
   "nbconvert_exporter": "python",
   "pygments_lexer": "ipython3",
   "version": "3.11.5"
  }
 },
 "nbformat": 4,
 "nbformat_minor": 5
}
