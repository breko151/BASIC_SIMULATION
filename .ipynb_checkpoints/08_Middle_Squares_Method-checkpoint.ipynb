{
 "cells": [
  {
   "cell_type": "markdown",
   "id": "bde46649",
   "metadata": {},
   "source": [
    "# Middle Squares Method.\n",
    "**Date:**   \n",
    "06/11/2023  \n",
    "**Authors:**  \n",
    "- Ojeda Contreras Braulio Melquisedec  \n",
    "- Suárez Pérez Juan Pablo"
   ]
  },
  {
   "cell_type": "markdown",
   "id": "2554b2a7",
   "metadata": {},
   "source": [
    "The method generates a sequence of pseudorandom numbers, as follows.\n",
    "1. Select seed (generally a number of even digits greater than 3). It is the starting point for the generation.\n",
    "2. Square the number.\n",
    "3. Select the t digits of the squaring result. If required, use 0 as the starting position.\n",
    "4. Repeat the process, choosing the central part as the new seed."
   ]
  },
  {
   "cell_type": "code",
   "execution_count": 1,
   "id": "09ce803d",
   "metadata": {},
   "outputs": [],
   "source": [
    "# Import libraries needed.\n",
    "from simulation.generators import middle_square_method as m_s_m"
   ]
  },
  {
   "cell_type": "code",
   "execution_count": 2,
   "id": "8794b0cf",
   "metadata": {},
   "outputs": [],
   "source": [
    "# Initial parameters.\n",
    "seed = 1033"
   ]
  },
  {
   "cell_type": "code",
   "execution_count": 3,
   "id": "a8733a4f",
   "metadata": {},
   "outputs": [
    {
     "name": "stdout",
     "output_type": "stream",
     "text": [
      "[0.067, 0.4489, 0.1511, 0.2831, 0.0145, 0.021, 0.0441, 0.1944, 0.7791, 0.6996]\n"
     ]
    }
   ],
   "source": [
    "# 10 samples with normalization.\n",
    "random_list = m_s_m(seed, 10)\n",
    "print(random_list)"
   ]
  },
  {
   "cell_type": "code",
   "execution_count": 4,
   "id": "992cee8e",
   "metadata": {},
   "outputs": [
    {
     "name": "stdout",
     "output_type": "stream",
     "text": [
      "[670, 4489, 1511, 2831, 145, 210, 441, 1944, 7791, 6996]\n"
     ]
    }
   ],
   "source": [
    "# 10 samples without normalization.\n",
    "random_list = m_s_m(seed, 10, False)\n",
    "print(random_list)"
   ]
  }
 ],
 "metadata": {
  "kernelspec": {
   "display_name": "Python 3 (ipykernel)",
   "language": "python",
   "name": "python3"
  },
  "language_info": {
   "codemirror_mode": {
    "name": "ipython",
    "version": 3
   },
   "file_extension": ".py",
   "mimetype": "text/x-python",
   "name": "python",
   "nbconvert_exporter": "python",
   "pygments_lexer": "ipython3",
   "version": "3.11.5"
  }
 },
 "nbformat": 4,
 "nbformat_minor": 5
}
