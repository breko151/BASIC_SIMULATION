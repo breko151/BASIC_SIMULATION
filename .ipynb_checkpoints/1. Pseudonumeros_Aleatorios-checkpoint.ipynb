{
 "cells": [
  {
   "cell_type": "markdown",
   "id": "1d869474",
   "metadata": {},
   "source": [
    "# Pseudonúmeros aleatorios\n",
    "Suárez Pérez Juan Pablo"
   ]
  },
  {
   "cell_type": "markdown",
   "id": "32a0552d",
   "metadata": {},
   "source": [
    "# Sin biblioteca"
   ]
  },
  {
   "cell_type": "code",
   "execution_count": 1,
   "id": "322ba7d7",
   "metadata": {},
   "outputs": [
    {
     "name": "stdout",
     "output_type": "stream",
     "text": [
      "[0.98, 0.73, 0.48, 0.23, 0.98]\n"
     ]
    }
   ],
   "source": [
    "semilla =87 \n",
    "\n",
    "a = 1664525\n",
    "c = 1013904223\n",
    "m = 100\n",
    "\n",
    "val = list()\n",
    "\n",
    "for i in range(5):\n",
    "    semilla = (a * semilla + c) % m\n",
    "    valor = semilla / m\n",
    "    val.append(valor)\n",
    "    \n",
    "print(val)"
   ]
  },
  {
   "cell_type": "markdown",
   "id": "1bb1d39f",
   "metadata": {},
   "source": [
    "# Con biblioteca"
   ]
  },
  {
   "cell_type": "code",
   "execution_count": 2,
   "id": "c221ab2b",
   "metadata": {},
   "outputs": [],
   "source": [
    "import numpy as np"
   ]
  },
  {
   "cell_type": "code",
   "execution_count": 3,
   "id": "6754b28e",
   "metadata": {},
   "outputs": [],
   "source": [
    "aleatiorios = [int(i) for i in np.random.uniform(0, 100, 10)]"
   ]
  },
  {
   "cell_type": "code",
   "execution_count": 4,
   "id": "e37caa20",
   "metadata": {},
   "outputs": [
    {
     "data": {
      "text/plain": [
       "[49, 50, 28, 67, 3, 67, 58, 24, 24, 15]"
      ]
     },
     "execution_count": 4,
     "metadata": {},
     "output_type": "execute_result"
    }
   ],
   "source": [
    "aleatiorios"
   ]
  }
 ],
 "metadata": {
  "kernelspec": {
   "display_name": "Python 3 (ipykernel)",
   "language": "python",
   "name": "python3"
  },
  "language_info": {
   "codemirror_mode": {
    "name": "ipython",
    "version": 3
   },
   "file_extension": ".py",
   "mimetype": "text/x-python",
   "name": "python",
   "nbconvert_exporter": "python",
   "pygments_lexer": "ipython3",
   "version": "3.9.12"
  }
 },
 "nbformat": 4,
 "nbformat_minor": 5
}
