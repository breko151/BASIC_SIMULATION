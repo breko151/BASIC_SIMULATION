{
 "cells": [
  {
   "cell_type": "markdown",
   "id": "45b24c4b",
   "metadata": {},
   "source": [
    "# Prueba de Media\n",
    "6AM1  \n",
    "Suárez Pérez Juan Pablo  \n",
    "Ojeda Contreras Braulio Melquisedec"
   ]
  },
  {
   "cell_type": "code",
   "execution_count": 1,
   "id": "cef672ae",
   "metadata": {},
   "outputs": [],
   "source": [
    "# Importamos las bibliotecas necesarias.\n",
    "import numpy as np\n",
    "import simulation.generators as prng"
   ]
  },
  {
   "cell_type": "code",
   "execution_count": 2,
   "id": "c5827f67",
   "metadata": {},
   "outputs": [],
   "source": [
    "# Ejemplo.\n",
    "data = [0.11352, 0.24528, 0.12014, 0.11963, 0.11592, 0.66175,\n",
    "       0.10047, 0.29429, 0.41769, 0.34661, 0.24381, 0.66425,\n",
    "       0.94441, 0.81699, 0.82584, 0.81231, 0.88835, 0.71202,\n",
    "       0.22591, 0.97069, 0.33214, 0.15361, 0.76613, 0.42239,\n",
    "       0.82506, 0.48166, 0.56711, 0.76950, 0.43478, 0.22817]\n",
    "data = np.array(data)"
   ]
  },
  {
   "cell_type": "code",
   "execution_count": 3,
   "id": "d023d074",
   "metadata": {},
   "outputs": [
    {
     "data": {
      "text/plain": [
       "0.4873476666666667"
      ]
     },
     "execution_count": 3,
     "metadata": {},
     "output_type": "execute_result"
    }
   ],
   "source": [
    "data.mean()"
   ]
  },
  {
   "cell_type": "code",
   "execution_count": 4,
   "id": "f89dae40",
   "metadata": {},
   "outputs": [
    {
     "data": {
      "text/plain": [
       "(0.470179549646941, 0.529820450353059)"
      ]
     },
     "execution_count": 4,
     "metadata": {},
     "output_type": "execute_result"
    }
   ],
   "source": [
    "lim_inf = 0.5 - 1.96 * (1 / (12 * (data.shape[0])**0.5))\n",
    "lim_sup = 0.5 + 1.96 * (1 / (12 * (data.shape[0])**0.5))\n",
    "lim_inf, lim_sup"
   ]
  },
  {
   "cell_type": "code",
   "execution_count": 5,
   "id": "e78dc1ce",
   "metadata": {},
   "outputs": [],
   "source": [
    "# Initial values\n",
    "seed = [42, 150, 287, 2021] \n",
    "a = [77, 32, 11, 30]\n",
    "c = [15, 235, 13, 23]\n",
    "m = [33, 3, 570, 66]\n",
    "n = [1000, 1500, 1234, 1301]"
   ]
  },
  {
   "cell_type": "code",
   "execution_count": 6,
   "id": "886442a2",
   "metadata": {},
   "outputs": [],
   "source": [
    "def test_mean(array, z = 1.96):\n",
    "    array = np.array(array)\n",
    "    mean = array.mean()\n",
    "    lim_inf = 0.5 - z * (1 / (12 * (array.shape[0])**0.5))\n",
    "    lim_sup = 0.5 + z * (1 / (12 * (array.shape[0])**0.5))\n",
    "    \n",
    "    if mean >= lim_inf and mean <= lim_sup:\n",
    "        #print('Los datos simulados cumplen con el test')\n",
    "        return True\n",
    "    else:\n",
    "        #print('Los datos simulados NO cumplen con el test')\n",
    "        return False"
   ]
  },
  {
   "cell_type": "code",
   "execution_count": 7,
   "id": "929efc5c",
   "metadata": {},
   "outputs": [],
   "source": [
    "results_final = list()\n",
    "index = list()\n",
    "for i in range(len(seed)):\n",
    "    random_list_lcg = prng.congruence_method(seed[i], a[i], c[i], m[i], n[i])\n",
    "    random_list_msm = prng.middle_square_method(seed[i], n[i])\n",
    "    random_list_lfsr = prng.lfsr_method(seed[i], [0, 2], n[i])\n",
    "    random_list_rand = prng.rand(seed[i], n[i])\n",
    "    random_list_randu = prng.randu(seed[i], n[i])\n",
    "    index.append(\"seed: \" + str(seed[i]) + \", a: \" + str(a[i]) + \", c: \" + str(c[i]) + \", m: \" + str(m[i]) + \", n: \" + str(n[i]))\n",
    "    results = [test_mean(random_list_lcg), test_mean(random_list_msm), test_mean(random_list_lfsr), test_mean(random_list_rand), test_mean(random_list_randu)]\n",
    "    results_final.append(results)"
   ]
  },
  {
   "cell_type": "code",
   "execution_count": 8,
   "id": "8766c5db",
   "metadata": {},
   "outputs": [
    {
     "name": "stdout",
     "output_type": "stream",
     "text": [
      "+------------------------------------------+-------+-------+-------+-------+-------+\n",
      "|                  Prueba                  |  lcg  |  msm  | lfsr  | rand  | randu |\n",
      "+------------------------------------------+-------+-------+-------+-------+-------+\n",
      "|  seed: 42, a: 77, c: 15, m: 33, n: 1000  | False | False | False | False | True  |\n",
      "| seed: 150, a: 32, c: 235, m: 3, n: 1500  | False | False | False | True  | False |\n",
      "| seed: 287, a: 11, c: 13, m: 570, n: 1234 | True  | False | False | False | False |\n",
      "| seed: 2021, a: 30, c: 23, m: 66, n: 1301 | False | False | False | False | False |\n",
      "+------------------------------------------+-------+-------+-------+-------+-------+\n"
     ]
    }
   ],
   "source": [
    "from tabulate import tabulate\n",
    "headers = [\"Prueba\", \"lcg\", \"msm\", \"lfsr\", \"rand\", \"randu\"]\n",
    "data_indexed = [[index[i]] + results_final[i] for i in range(len(results_final))]\n",
    "print(tabulate(data_indexed, headers = headers, tablefmt = \"pretty\"))"
   ]
  }
 ],
 "metadata": {
  "kernelspec": {
   "display_name": "Python 3 (ipykernel)",
   "language": "python",
   "name": "python3"
  },
  "language_info": {
   "codemirror_mode": {
    "name": "ipython",
    "version": 3
   },
   "file_extension": ".py",
   "mimetype": "text/x-python",
   "name": "python",
   "nbconvert_exporter": "python",
   "pygments_lexer": "ipython3",
   "version": "3.11.5"
  }
 },
 "nbformat": 4,
 "nbformat_minor": 5
}
