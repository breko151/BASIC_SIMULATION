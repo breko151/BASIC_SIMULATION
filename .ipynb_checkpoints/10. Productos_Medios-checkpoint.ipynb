{
 "cells": [
  {
   "cell_type": "markdown",
   "id": "adc15439",
   "metadata": {},
   "source": [
    "# Método Productos Medios\n",
    "6AM1  \n",
    "Suárez Pérez Juan Pablo"
   ]
  },
  {
   "cell_type": "markdown",
   "id": "3f39a993",
   "metadata": {},
   "source": [
    "El algoritmo de productos medios es un método de generación de números pseudoaleatorios. Es una extensión del método de cuadrados medios y fue propuesto por John von Neumann.  \n",
    "**Procedimiento**:\n",
    "\n",
    "1. **Semillas iniciales:**\n",
    "   - Comienza con dos semillas iniciales ($X_0$ y $Y_0$). La longitud ($n$) de las semillas debe ser igual.\n",
    "\n",
    "2. **Producto de las semillas:**\n",
    "   - Calcula el producto de las dos semillas ($X_0 \\times Y_0$). Esto dará como resultado un número de $2n$ dígitos. Si el resultado tiene menos de $2n$ dígitos, se anteponen ceros para completar $2n$ dígitos.\n",
    "\n",
    "3. **Extracción del nuevo número:**\n",
    "   - Extrae los $n$ dígitos del medio del producto. Este número se convierte en el nuevo valor de $X$ ($X_1$) y $Y_0$ se convierte en $Y_1$.\n",
    "\n",
    "4. **Normalización:**\n",
    "   - Divide $X_1$ por $10^n$ para obtener un número decimal entre 0 y 1.\n",
    "\n",
    "5. **Iteración:**\n",
    "   - Repite los pasos 2-4 utilizando los nuevos valores de $X$ y $Y$ para generar más números aleatorios.\n",
    "\n",
    "6. **Finalización:**\n",
    "   - Repite el proceso hasta generar la cantidad deseada de números aleatorios.\n",
    "\n",
    "**Consideraciones**:\n",
    "\n",
    "- La elección de las semillas iniciales es crucial. Si se elige una semilla de ceros, el algoritmo fallará, generando solo ceros.\n",
    "- El algoritmo puede comenzar a repetir números después de un cierto número de iteraciones.\n",
    "- Es un método simple, pero no es el más eficiente para la generación de números aleatorios en simulaciones complejas."
   ]
  },
  {
   "cell_type": "code",
   "execution_count": 1,
   "id": "c1eeec25",
   "metadata": {},
   "outputs": [],
   "source": [
    "# Definición del método de Cuadrados Medios.\n",
    "def middle_square_method(seed, seed_2, n, normalized = True):\n",
    "    \"\"\"\n",
    "        Función Generadora de pseudonúmeros aleatorios \n",
    "        por el método de Cuadrados Medios. \n",
    "        Entrada: seed, seed_2, n, normialized.\n",
    "        Salida: random_list\n",
    "    \"\"\"\n",
    "    # Validación de semilla.\n",
    "    t = len(str(seed))\n",
    "    t_2 = len(str(seed_2))\n",
    "    assert t % 2 == 0 and t > 3 and t_2 % 2 == 0 and t_2 > 3 and t == t_2, \"Se requiere un número con digitos pares, con el número de dígitos mayor a 3.\"\n",
    "   \n",
    "    # Inicialización de pseudonúmeros aleatorios.\n",
    "    random_list = list()\n",
    "    \n",
    "    # Iteración de n números.\n",
    "    for _ in range(n):\n",
    "        # Elevación de la semilla al cuadrado.\n",
    "        square_value = str(seed ** seed_2)\n",
    "        # Validación del cuadrado.\n",
    "        while(len(square_value) < 2 * t):\n",
    "            square_value = '0' + square_value\n",
    "        # Obtención de los dígitos del centro.\n",
    "        initial_index = len(square_value) // t\n",
    "        random_value = int(square_value[initial_index:initial_index + t])\n",
    "        # Normalización.\n",
    "        if normalized:\n",
    "            random_value = random_value / (1 * 10 ** t)\n",
    "        # Anexión de valores a lista de pseudonúmeros aleatorios.\n",
    "        random_list.append(random_value)\n",
    "        # Remplazo de semilla.\n",
    "        seed = seed_2\n",
    "        seed_2 = int(square_value[initial_index:initial_index + t])\n",
    "    \n",
    "    # Retorno de lista de pseudonúmeros aleatorios.\n",
    "    return random_list"
   ]
  },
  {
   "cell_type": "code",
   "execution_count": 2,
   "id": "dd956b5f",
   "metadata": {},
   "outputs": [],
   "source": [
    "# Valores inciales.\n",
    "seed = 1033\n",
    "seed_2 = 2557"
   ]
  },
  {
   "cell_type": "code",
   "execution_count": 3,
   "id": "288b60ea",
   "metadata": {},
   "outputs": [
    {
     "name": "stdout",
     "output_type": "stream",
     "text": [
      "[0.7093, 0.3117, 0.8418, 0.2426, 0.4909, 0.3632, 0.4663, 0.7871, 0.6894, 0.7249]\n"
     ]
    }
   ],
   "source": [
    "# Implementación con normalización, con 10 muestras.\n",
    "random_list = middle_square_method(seed, seed_2, 10)\n",
    "print(random_list)"
   ]
  },
  {
   "cell_type": "code",
   "execution_count": 4,
   "id": "e2b91345",
   "metadata": {},
   "outputs": [
    {
     "name": "stdout",
     "output_type": "stream",
     "text": [
      "[7093, 3117, 8418, 2426, 4909, 3632, 4663, 7871, 6894, 7249]\n"
     ]
    }
   ],
   "source": [
    "# Implementación con normalización, con 10 muestras.\n",
    "random_list = middle_square_method(seed, seed_2, 10, False)\n",
    "print(random_list)"
   ]
  }
 ],
 "metadata": {
  "kernelspec": {
   "display_name": "Python 3 (ipykernel)",
   "language": "python",
   "name": "python3"
  },
  "language_info": {
   "codemirror_mode": {
    "name": "ipython",
    "version": 3
   },
   "file_extension": ".py",
   "mimetype": "text/x-python",
   "name": "python",
   "nbconvert_exporter": "python",
   "pygments_lexer": "ipython3",
   "version": "3.11.5"
  }
 },
 "nbformat": 4,
 "nbformat_minor": 5
}
