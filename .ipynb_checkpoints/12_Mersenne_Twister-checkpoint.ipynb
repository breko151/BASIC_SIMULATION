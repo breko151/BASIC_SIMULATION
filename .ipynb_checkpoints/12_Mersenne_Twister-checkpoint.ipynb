{
 "cells": [
  {
   "cell_type": "markdown",
   "id": "472a5429",
   "metadata": {},
   "source": [
    "# Mersenne Twister\n",
    "**Date:**   \n",
    "06/11/2023  \n",
    "**Authors:**  \n",
    "- Ojeda Contreras Braulio Melquisedec  \n",
    "- Suárez Pérez Juan Pablo"
   ]
  },
  {
   "cell_type": "markdown",
   "id": "e1ac7447",
   "metadata": {},
   "source": [
    "Mersenne Twister is a number generating algorithm, developed by Makoto Matsumoto and Takuji Nishimira in 1997. It is known for its good statistical quality and its extremely long period. The name comes from the Mersenne primes and the twisting operation that is applied for number generation. The steps for generating numbers are as follows:\n",
    "1. Initialization: Seed selection.\n",
    "2. Generation of pseudorandom numbers: The process is carried out as follows:\n",
    "     to. An internal number is taken from the current state of the generator (32-bit value).\n",
    "     b. Mathematical operations applied to the internal number to calculate the next number.\n",
    "     c. This new number is stored in the internal state for future use.\n",
    "     d. It is returned as a pseudorandom number for application use.\n",
    "3. Repetition."
   ]
  },
  {
   "cell_type": "code",
   "execution_count": 1,
   "id": "eb97685f",
   "metadata": {},
   "outputs": [],
   "source": [
    "# Import libraries needed.\n",
    "from simulation.generators import mersenne_twister"
   ]
  },
  {
   "cell_type": "code",
   "execution_count": 2,
   "id": "94a719ec",
   "metadata": {},
   "outputs": [],
   "source": [
    "# Initial parameters.\n",
    "seed = 5489 "
   ]
  },
  {
   "cell_type": "code",
   "execution_count": 3,
   "id": "abd44825",
   "metadata": {},
   "outputs": [
    {
     "name": "stdout",
     "output_type": "stream",
     "text": [
      "[0.7350059833566762, 0.6964682475350321, 0.6536379011712697, 0.5689309791982275, 0.9556248476193213, 0.09876626113974078, 0.26837679739631104, 0.12054273022173156, 0.8128164208181704, 0.9483655209792844]\n"
     ]
    }
   ],
   "source": [
    "# 10 samples with normalization.\n",
    "random_list = mersenne_twister(seed, 10)\n",
    "print(random_list)"
   ]
  },
  {
   "cell_type": "code",
   "execution_count": 4,
   "id": "a88c1392",
   "metadata": {},
   "outputs": [
    {
     "name": "stdout",
     "output_type": "stream",
     "text": [
      "[3156826508, 2991308201, 2807353273, 2443539831, 4104377269, 424197841, 1152669512, 517727059, 3491019776, 4073198700]\n"
     ]
    }
   ],
   "source": [
    "# 10 samples without normalization.\n",
    "random_list = mersenne_twister(seed, 10, False)\n",
    "print(random_list)"
   ]
  }
 ],
 "metadata": {
  "kernelspec": {
   "display_name": "Python 3 (ipykernel)",
   "language": "python",
   "name": "python3"
  },
  "language_info": {
   "codemirror_mode": {
    "name": "ipython",
    "version": 3
   },
   "file_extension": ".py",
   "mimetype": "text/x-python",
   "name": "python",
   "nbconvert_exporter": "python",
   "pygments_lexer": "ipython3",
   "version": "3.11.5"
  }
 },
 "nbformat": 4,
 "nbformat_minor": 5
}
