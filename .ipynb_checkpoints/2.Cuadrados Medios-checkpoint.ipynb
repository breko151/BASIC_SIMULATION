{
 "cells": [
  {
   "cell_type": "markdown",
   "id": "bde46649",
   "metadata": {},
   "source": [
    "# Cuadrados Medios\n",
    "Suárez Pérez Juan Pablo"
   ]
  },
  {
   "cell_type": "code",
   "execution_count": 1,
   "id": "a07584aa",
   "metadata": {},
   "outputs": [],
   "source": [
    "def cuadrados_medios(semilla, n):\n",
    "    \n",
    "    assert len(str(semilla)) % 2 == 0, \"Número con digitos pares.\"\n",
    "    randoms = list()\n",
    "    lon = len(str(semilla))\n",
    "    \n",
    "    for _ in range(n):\n",
    "        cuadrado = str(semilla ** 2)\n",
    "        while(len(cuadrado) < 2 * lon):\n",
    "            cuadrado = '0' + cuadrado\n",
    "        indice = len(cuadrado) // lon\n",
    "        valor = int(cuadrado[indice:indice+lon])\n",
    "        valor_ran = valor / (1 * 10 ** lon)\n",
    "        randoms.append(valor_ran)\n",
    "        semilla = valor\n",
    "    return randoms"
   ]
  },
  {
   "cell_type": "code",
   "execution_count": 2,
   "id": "85a4c4cf",
   "metadata": {},
   "outputs": [
    {
     "data": {
      "text/plain": [
       "[0.067, 0.4489, 0.1511, 0.2831, 0.0145, 0.021, 0.0441, 0.1944, 0.7791, 0.6996]"
      ]
     },
     "execution_count": 2,
     "metadata": {},
     "output_type": "execute_result"
    }
   ],
   "source": [
    "cuadrados_medios(1033, 10)"
   ]
  }
 ],
 "metadata": {
  "kernelspec": {
   "display_name": "Python 3 (ipykernel)",
   "language": "python",
   "name": "python3"
  },
  "language_info": {
   "codemirror_mode": {
    "name": "ipython",
    "version": 3
   },
   "file_extension": ".py",
   "mimetype": "text/x-python",
   "name": "python",
   "nbconvert_exporter": "python",
   "pygments_lexer": "ipython3",
   "version": "3.9.12"
  }
 },
 "nbformat": 4,
 "nbformat_minor": 5
}
