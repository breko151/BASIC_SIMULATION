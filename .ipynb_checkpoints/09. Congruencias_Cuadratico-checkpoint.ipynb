{
 "cells": [
  {
   "cell_type": "markdown",
   "id": "adc15439",
   "metadata": {},
   "source": [
    "# Método congruencial cuadrático\n",
    "6AM1  \n",
    "Suárez Pérez Juan Pablo"
   ]
  },
  {
   "cell_type": "markdown",
   "id": "3f39a993",
   "metadata": {},
   "source": [
    "El método produce una secuencia de enteros entre 0 y m-1 de acuerdo a:  \n",
    "$$X_{i+1}=(aX_{i}^2 + bX_{i} + c) \\hspace{0.10cm} mod \\hspace{0.10cm} m$$  \n",
    "$$i=0,1,2,...$$\n",
    "Donde se tienen los siguientes valores:  \n",
    "$X_0$: Semilla  \n",
    "$a, b, c$: nteros positivos que son los coeficientes de la función cuadrática.  \n",
    "$m$: Módulo.  \n",
    "$X_n$: Número pseudoaleatorio en el n-ésimo paso.  \n",
    "$X_{n+1}$: Número pseudoaleatorio en el siguiente paso (n+1).\n",
    "El número aleatorio se encuetra de la siguiente manera:  \n",
    "$$R = \\frac{X}{m}$$"
   ]
  },
  {
   "cell_type": "code",
   "execution_count": 1,
   "id": "c1eeec25",
   "metadata": {},
   "outputs": [],
   "source": [
    "# Definición del método de Congruencial Cuadrático.\n",
    "def congruence_method(seed, a, b, c, m, n, normalized = True):\n",
    "    \"\"\"\n",
    "        Función Generadora de pseudonúmeros aleatorios \n",
    "        por el método de Congruencial Cuadrático. \n",
    "        Entrada: seed, a, b, c, m, n, normalized.\n",
    "        Salida: random_list\n",
    "    \"\"\"\n",
    "    \n",
    "    # Inicialización de pseudonúmeros aleatorios.\n",
    "    random_list = list()\n",
    "    \n",
    "    # Iteración de n números.\n",
    "    for _ in range(n):\n",
    "        # Congruencia Lineal.\n",
    "        x_i = (a * seed ** 2 + b * seed + c) % m\n",
    "        random_value = x_i\n",
    "        # Normalización.\n",
    "        if normalized:\n",
    "            random_value = random_value / m\n",
    "        # Anexión de valores a lista de pseudonúmeros aleatorios.\n",
    "        random_list.append(random_value)\n",
    "        # Remplazo de semilla.\n",
    "        seed = x_i\n",
    "    \n",
    "    # Retorno de lista de pseudonúmeros aleatorios.\n",
    "    return random_list"
   ]
  },
  {
   "cell_type": "code",
   "execution_count": 2,
   "id": "dd956b5f",
   "metadata": {},
   "outputs": [],
   "source": [
    "# Valores iniciales.\n",
    "seed = 87 \n",
    "a = 16634\n",
    "b = 16625\n",
    "c = 16645\n",
    "m = 1234"
   ]
  },
  {
   "cell_type": "code",
   "execution_count": 3,
   "id": "288b60ea",
   "metadata": {},
   "outputs": [
    {
     "name": "stdout",
     "output_type": "stream",
     "text": [
      "[0.32901134521880065, 0.07698541329011345, 0.946515397082658, 0.6442463533225283, 0.47811993517017826, 0.27957860615883307, 0.993517017828201, 0.8711507293354943, 0.09076175040518639, 0.13371150729335493]\n"
     ]
    }
   ],
   "source": [
    "# Implementación con normalización, con 10 muestras.\n",
    "random_list = congruence_method(seed, a, b, c, m, 10)\n",
    "print(random_list)"
   ]
  },
  {
   "cell_type": "code",
   "execution_count": 4,
   "id": "e2b91345",
   "metadata": {},
   "outputs": [
    {
     "name": "stdout",
     "output_type": "stream",
     "text": [
      "[406, 95, 1168, 795, 590, 345, 1226, 1075, 112, 165]\n"
     ]
    }
   ],
   "source": [
    "# Implementación sin normalización.\n",
    "random_list = congruence_method(seed, a, b, c, m, 10, False)\n",
    "print(random_list)"
   ]
  }
 ],
 "metadata": {
  "kernelspec": {
   "display_name": "Python 3 (ipykernel)",
   "language": "python",
   "name": "python3"
  },
  "language_info": {
   "codemirror_mode": {
    "name": "ipython",
    "version": 3
   },
   "file_extension": ".py",
   "mimetype": "text/x-python",
   "name": "python",
   "nbconvert_exporter": "python",
   "pygments_lexer": "ipython3",
   "version": "3.11.5"
  }
 },
 "nbformat": 4,
 "nbformat_minor": 5
}
