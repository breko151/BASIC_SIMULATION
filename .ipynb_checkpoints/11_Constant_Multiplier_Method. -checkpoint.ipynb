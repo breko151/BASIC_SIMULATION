{
 "cells": [
  {
   "cell_type": "markdown",
   "id": "adc15439",
   "metadata": {},
   "source": [
    "# Constant Multiplier method. \n",
    "**Date:**   \n",
    "06/11/2023  \n",
    "**Authors:**  \n",
    "- Ojeda Contreras Braulio Melquisedec  \n",
    "- Suárez Pérez Juan Pablo"
   ]
  },
  {
   "cell_type": "markdown",
   "id": "3f39a993",
   "metadata": {},
   "source": [
    "The constant multiplier algorithm is a simple method for generating pseudorandom numbers. It uses an initial seed and a constant multiplier to produce a sequence of random numbers.\n",
    "\n",
    "**Procedure**:\n",
    "\n",
    "1. **Seed and Multiplier:**\n",
    "    - Starts with an initial seed ($X_0$) and a constant multiplier ($a$). The length ($n$) of the seed must be known.\n",
    "\n",
    "2. **Multiplication:**\n",
    "    - Multiply the seed by the multiplier ($X_0 \\times a$). This will result in a number that can be more than $n$ digits.\n",
    "\n",
    "3. **Extraction of the new number:**\n",
    "    - If the result has more than $n$ digits, extract the middle $n$ digits of the product. This number becomes the new seed value ($X_1$).\n",
    "\n",
    "4. **Normalization:**\n",
    "    - Divide $X_1$ by $10^n$ to obtain a decimal number between 0 and 1.\n",
    "\n",
    "5. **Iteration:**\n",
    "    - Repeat steps 2-4 using the new seed value to generate more random numbers.\n",
    "\n",
    "6. **Completion:**\n",
    "    - Repeat the process until the desired number of random numbers are generated.\n",
    "\n",
    "**Considerations**:\n",
    "\n",
    "- The choice of the initial seed and the multiplier is important to ensure a good dispersion of the generated random numbers.\n",
    "- Like other methods, it can start repeating numbers after a certain number of iterations.\n",
    "- It is a simple and easy method to implement, but it is not the most efficient for complex simulations."
   ]
  },
  {
   "cell_type": "code",
   "execution_count": 1,
   "id": "cfbd8329",
   "metadata": {},
   "outputs": [],
   "source": [
    "# Import libraries needed.\n",
    "from simulation.generators import constant_multiplier_method as c_m_m"
   ]
  },
  {
   "cell_type": "code",
   "execution_count": 2,
   "id": "dd956b5f",
   "metadata": {},
   "outputs": [],
   "source": [
    "# Initial parameters.\n",
    "seed = 1033\n",
    "seed_2 = 2557"
   ]
  },
  {
   "cell_type": "code",
   "execution_count": 3,
   "id": "288b60ea",
   "metadata": {},
   "outputs": [
    {
     "name": "stdout",
     "output_type": "stream",
     "text": [
      "[0.6413, 0.398, 0.1768, 0.5207, 0.3142, 0.034, 0.8693, 0.228, 0.8299, 0.2205]\n"
     ]
    }
   ],
   "source": [
    "# 10 samples with normalization.\n",
    "random_list = c_m_m(seed, seed_2, 10)\n",
    "print(random_list)"
   ]
  },
  {
   "cell_type": "code",
   "execution_count": 4,
   "id": "e2b91345",
   "metadata": {},
   "outputs": [
    {
     "name": "stdout",
     "output_type": "stream",
     "text": [
      "[6413, 3980, 1768, 5207, 3142, 340, 8693, 2280, 8299, 2205]\n"
     ]
    }
   ],
   "source": [
    "# 10 samples without normalization.\n",
    "random_list = c_m_m(seed, seed_2, 10, False)\n",
    "print(random_list)"
   ]
  }
 ],
 "metadata": {
  "kernelspec": {
   "display_name": "Python 3 (ipykernel)",
   "language": "python",
   "name": "python3"
  },
  "language_info": {
   "codemirror_mode": {
    "name": "ipython",
    "version": 3
   },
   "file_extension": ".py",
   "mimetype": "text/x-python",
   "name": "python",
   "nbconvert_exporter": "python",
   "pygments_lexer": "ipython3",
   "version": "3.11.5"
  }
 },
 "nbformat": 4,
 "nbformat_minor": 5
}
