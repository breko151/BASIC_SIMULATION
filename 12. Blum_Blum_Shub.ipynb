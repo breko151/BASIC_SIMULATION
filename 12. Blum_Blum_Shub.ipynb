{
 "cells": [
  {
   "cell_type": "markdown",
   "id": "9807465f",
   "metadata": {},
   "source": [
    "# Blum Blum Shub\n",
    "6AM1  \n",
    "Suárez Pérez Juan Pablo"
   ]
  },
  {
   "cell_type": "markdown",
   "id": "68f09019",
   "metadata": {},
   "source": [
    "### Descripción:\n",
    "\n",
    "El algoritmo Blum Blum Shub es un generador de números pseudoaleatorios que utiliza la exponenciación modular y es conocido por su seguridad en aplicaciones criptográficas.\n",
    "\n",
    "### Procedimiento:\n",
    "\n",
    "1. **Parámetros:**\n",
    "   - Selecciona dos números primos grandes $p$ y $q$ tales que $p \\equiv 3 (\\mod 4)$ y $q \\equiv 3 (\\mod 4)$.\n",
    "   - Calcula $m = p \\times q$.\n",
    "   - Escoge una semilla $X_0$ coprima con $m$ (es decir, $ \\gcd(X_0, m) = 1 $).\n",
    "\n",
    "2. **Cálculo:**\n",
    "   - Calcula el siguiente valor ($X_1$) usando la fórmula:\n",
    "     $$\n",
    "     X_{n+1} = X_n^2 \\mod m\n",
    "     $$\n",
    "   - Esto dará como resultado un número entero entre $0$ y $m-1$.\n",
    "\n",
    "3. **Normalización:**\n",
    "   - Divide $X_1$ por $m$ para obtener un número decimal entre $0$ y $1$.\n",
    "\n",
    "4. **Iteración:**\n",
    "   - Usa $X_1$ como la nueva semilla ($X_0$) y repite los pasos 2-3 para generar más números aleatorios.\n",
    "\n",
    "5. **Finalización:**\n",
    "   - Repite el proceso hasta generar la cantidad deseada de números aleatorios.\n",
    "\n",
    "### Consideraciones:\n",
    "\n",
    "- La elección de $p$ y $q$ es crucial para la seguridad del generador. Deben ser números primos grandes y desconocidos para un observador externo.\n",
    "- La semilla inicial $X_0$ también debe ser elegida cuidadosamente.\n",
    "- Aunque es un método seguro, puede ser más lento que otros generadores de números aleatorios debido a la necesidad de realizar exponenciación modular.\n",
    "- Es especialmente útil en contextos donde la seguridad es una preocupación importante, como en la criptografía."
   ]
  },
  {
   "cell_type": "code",
   "execution_count": 1,
   "id": "c2dffa4d",
   "metadata": {},
   "outputs": [],
   "source": [
    "def generador_blum_blum_shub(semilla, p, q, n):\n",
    "    m = p * q\n",
    "    valores_aleatorios = []\n",
    "    \n",
    "    for x in range(n):\n",
    "        semilla = (semilla ** 2) % m\n",
    "        valores_aleatorios.append(semilla / m)\n",
    "    \n",
    "    return valores_aleatorios"
   ]
  },
  {
   "cell_type": "code",
   "execution_count": 2,
   "id": "60240ff4",
   "metadata": {},
   "outputs": [
    {
     "name": "stdout",
     "output_type": "stream",
     "text": [
      "[0.11688311688311688, 0.05194805194805195, 0.2077922077922078, 0.3246753246753247, 0.11688311688311688]\n"
     ]
    }
   ],
   "source": [
    "# 8.- Blum blum y Shub\n",
    "resultado_blum_blum_shub = generador_blum_blum_shub(3, 11, 7, 5)\n",
    "print(resultado_blum_blum_shub)"
   ]
  }
 ],
 "metadata": {
  "kernelspec": {
   "display_name": "Python 3 (ipykernel)",
   "language": "python",
   "name": "python3"
  },
  "language_info": {
   "codemirror_mode": {
    "name": "ipython",
    "version": 3
   },
   "file_extension": ".py",
   "mimetype": "text/x-python",
   "name": "python",
   "nbconvert_exporter": "python",
   "pygments_lexer": "ipython3",
   "version": "3.9.12"
  }
 },
 "nbformat": 4,
 "nbformat_minor": 5
}
