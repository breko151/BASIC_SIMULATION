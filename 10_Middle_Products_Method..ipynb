{
 "cells": [
  {
   "cell_type": "markdown",
   "id": "adc15439",
   "metadata": {},
   "source": [
    "# Middle Products Method\n",
    "**Date:**   \n",
    "06/11/2023  \n",
    "**Authors:**  \n",
    "- Ojeda Contreras Braulio Melquisedec  \n",
    "- Suárez Pérez Juan Pablo"
   ]
  },
  {
   "cell_type": "markdown",
   "id": "3f39a993",
   "metadata": {},
   "source": [
    "The mean products algorithm is a pseudo-random number generation method. It is an extension of the mean squares method and was proposed by John von Neumann.  \n",
    "\n",
    "**Procedure**:\n",
    "\n",
    "1. **Starting seeds:**\n",
    "    - Starts with two initial seeds ($X_0$ and $Y_0$). The length ($n$) of the seeds must be equal.\n",
    "\n",
    "2. **Seed product:**\n",
    "    - Calculate the product of the two seeds ($X_0 \\times Y_0$). This will result in a $2n$ digit number. If the result has less than $2n$ digits, zeros are prepended to complete $2n$ digits.\n",
    "\n",
    "3. **Extraction of the new number:**\n",
    "    - Extract the middle $n$ digits of the product. This number becomes the new value of $X$ ($X_1$) and $Y_0$ becomes $Y_1$.\n",
    "\n",
    "4. **Normalization:**\n",
    "    - Divide $X_1$ by $10^n$ to obtain a decimal number between 0 and 1.\n",
    "\n",
    "5. **Iteration:**\n",
    "    - Repeat steps 2-4 using the new $X$ and $Y$ values to generate more random numbers.\n",
    "\n",
    "6. **Completion:**\n",
    "    - Repeat the process until the desired number of random numbers are generated.\n",
    "\n",
    "**Considerations**:\n",
    "\n",
    "- The choice of initial seeds is crucial. If a seed of zeros is chosen, the algorithm will fail, generating only zeros.\n",
    "- The algorithm can start repeating numbers after a certain number of iterations.\n",
    "- It is a simple method, but it is not the most efficient for generating random numbers in complex simulations."
   ]
  },
  {
   "cell_type": "code",
   "execution_count": 1,
   "id": "051c736c",
   "metadata": {},
   "outputs": [],
   "source": [
    "# Import libraries needed.\n",
    "from simulation.generators import middle_products_method as m_p_m"
   ]
  },
  {
   "cell_type": "code",
   "execution_count": 2,
   "id": "dd956b5f",
   "metadata": {},
   "outputs": [],
   "source": [
    "# Initial parameters.\n",
    "seed = 1033\n",
    "seed_2 = 2557"
   ]
  },
  {
   "cell_type": "code",
   "execution_count": 3,
   "id": "288b60ea",
   "metadata": {},
   "outputs": [
    {
     "name": "stdout",
     "output_type": "stream",
     "text": [
      "[0.6413, 0.398, 0.5237, 0.8432, 0.1583, 0.3478, 0.5056, 0.5847, 0.5624, 0.8835]\n"
     ]
    }
   ],
   "source": [
    "# 10 samples with normalization.\n",
    "random_list = m_p_m(seed, seed_2, 10)\n",
    "print(random_list)"
   ]
  },
  {
   "cell_type": "code",
   "execution_count": 4,
   "id": "e2b91345",
   "metadata": {},
   "outputs": [
    {
     "name": "stdout",
     "output_type": "stream",
     "text": [
      "[6413, 3980, 5237, 8432, 1583, 3478, 5056, 5847, 5624, 8835]\n"
     ]
    }
   ],
   "source": [
    "# 10 samples without normalization.\n",
    "random_list = m_p_m(seed, seed_2, 10, False)\n",
    "print(random_list)"
   ]
  }
 ],
 "metadata": {
  "kernelspec": {
   "display_name": "Python 3 (ipykernel)",
   "language": "python",
   "name": "python3"
  },
  "language_info": {
   "codemirror_mode": {
    "name": "ipython",
    "version": 3
   },
   "file_extension": ".py",
   "mimetype": "text/x-python",
   "name": "python",
   "nbconvert_exporter": "python",
   "pygments_lexer": "ipython3",
   "version": "3.11.5"
  }
 },
 "nbformat": 4,
 "nbformat_minor": 5
}
