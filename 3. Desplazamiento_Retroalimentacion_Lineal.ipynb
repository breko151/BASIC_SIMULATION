{
 "cells": [
  {
   "cell_type": "code",
   "execution_count": 1,
   "id": "2dd6312b",
   "metadata": {},
   "outputs": [],
   "source": [
    "class LFSR:\n",
    "    \n",
    "    def __init__(self, semilla, taps):\n",
    "        self.state = semilla\n",
    "        self.taps = taps # Posiciones de retroalimentación\n",
    "        \n",
    "    def shift(self):\n",
    "        feedback_bit = sum(self.state[i] for i in self.taps) % 2\n",
    "        self.state = [feedback_bit] + self.state[:-1]\n",
    "        return feedback_bit"
   ]
  },
  {
   "cell_type": "code",
   "execution_count": 2,
   "id": "23ee824f",
   "metadata": {},
   "outputs": [],
   "source": [
    "semilla = [1,1,1,1]\n",
    "taps = [3, 0]"
   ]
  },
  {
   "cell_type": "code",
   "execution_count": 3,
   "id": "025cc8c2",
   "metadata": {},
   "outputs": [],
   "source": [
    "lfsr = LFSR(semilla, taps)"
   ]
  },
  {
   "cell_type": "code",
   "execution_count": 4,
   "id": "e8dfd60c",
   "metadata": {},
   "outputs": [],
   "source": [
    "random = list()\n",
    "for _ in range(10):\n",
    "    random_bit = lfsr.shift()\n",
    "    random.append(random_bit)"
   ]
  },
  {
   "cell_type": "code",
   "execution_count": 5,
   "id": "7386f29d",
   "metadata": {},
   "outputs": [
    {
     "name": "stdout",
     "output_type": "stream",
     "text": [
      "[0, 1, 0, 1, 1, 0, 0, 1, 0, 0]\n"
     ]
    }
   ],
   "source": [
    "print(random)"
   ]
  }
 ],
 "metadata": {
  "kernelspec": {
   "display_name": "Python 3 (ipykernel)",
   "language": "python",
   "name": "python3"
  },
  "language_info": {
   "codemirror_mode": {
    "name": "ipython",
    "version": 3
   },
   "file_extension": ".py",
   "mimetype": "text/x-python",
   "name": "python",
   "nbconvert_exporter": "python",
   "pygments_lexer": "ipython3",
   "version": "3.9.12"
  }
 },
 "nbformat": 4,
 "nbformat_minor": 5
}
