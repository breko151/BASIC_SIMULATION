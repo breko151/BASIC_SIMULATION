{
 "cells": [
  {
   "cell_type": "markdown",
   "id": "ea1b488f",
   "metadata": {},
   "source": [
    "# Linear Feedback Displacement Method\n",
    "**Date:**   \n",
    "06/11/2023  \n",
    "**Authors:**  \n",
    "- Ojeda Contreras Braulio Melquisedec  \n",
    "- Suárez Pérez Juan Pablo"
   ]
  },
  {
   "cell_type": "markdown",
   "id": "42c6d47f",
   "metadata": {},
   "source": [
    "It is a method for generating a sequence of pseudorandom numbers, they are commonly used in cryptographic applications, sequence code generation and pattern testing, among other uses.\n",
    "\n",
    "The LFSR steps are as follows:\n",
    "1. Initial State: Current state of the record.\n",
    "2. Feedback: Calculate the next bit of the sequence.\n",
    "3. Shift: The LFSR shifts all bits to the right and the new output bit is placed at the leftmost position of the register.\n",
    "4. Repetition: Each iteration is repeated to generate a continuous sequence of bits.\n",
    "5. Output: The output bit is used as a pseudorandom number."
   ]
  },
  {
   "cell_type": "code",
   "execution_count": 1,
   "id": "4a309ea2",
   "metadata": {},
   "outputs": [],
   "source": [
    "# Import libraries needed.\n",
    "from simulation.generators import lfsr_method"
   ]
  },
  {
   "cell_type": "code",
   "execution_count": 2,
   "id": "23ee824f",
   "metadata": {},
   "outputs": [],
   "source": [
    "# Initial parameters.\n",
    "seed = 42\n",
    "taps = [3, 0]"
   ]
  },
  {
   "cell_type": "code",
   "execution_count": 3,
   "id": "025cc8c2",
   "metadata": {},
   "outputs": [
    {
     "name": "stdout",
     "output_type": "stream",
     "text": [
      "[0.47843137254901963, 0.7843137254901961, 0.9607843137254902, 0.5686274509803921, 0.9215686274509803, 0.13725490196078433, 0.8392156862745098, 0.2784313725490196, 0.6745098039215687, 0.5607843137254902]\n"
     ]
    }
   ],
   "source": [
    "# 10 samples with normalization.\n",
    "random_list = lfsr_method(seed, taps, 10)\n",
    "print(random_list)"
   ]
  },
  {
   "cell_type": "code",
   "execution_count": 4,
   "id": "71089b0f",
   "metadata": {},
   "outputs": [
    {
     "name": "stdout",
     "output_type": "stream",
     "text": [
      "[122, 200, 245, 145, 235, 35, 214, 71, 172, 143]\n"
     ]
    }
   ],
   "source": [
    "# 10 samples without normalization.\n",
    "random_list = lfsr_method(seed, taps, 10, normalized = False)\n",
    "print(random_list)"
   ]
  }
 ],
 "metadata": {
  "kernelspec": {
   "display_name": "Python 3 (ipykernel)",
   "language": "python",
   "name": "python3"
  },
  "language_info": {
   "codemirror_mode": {
    "name": "ipython",
    "version": 3
   },
   "file_extension": ".py",
   "mimetype": "text/x-python",
   "name": "python",
   "nbconvert_exporter": "python",
   "pygments_lexer": "ipython3",
   "version": "3.11.5"
  }
 },
 "nbformat": 4,
 "nbformat_minor": 5
}
