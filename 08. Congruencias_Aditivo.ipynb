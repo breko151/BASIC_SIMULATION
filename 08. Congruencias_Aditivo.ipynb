{
 "cells": [
  {
   "cell_type": "markdown",
   "id": "adc15439",
   "metadata": {},
   "source": [
    "# Método congruencial aditivo\n",
    "6AM1  \n",
    "Suárez Pérez Juan Pablo"
   ]
  },
  {
   "cell_type": "markdown",
   "id": "3f39a993",
   "metadata": {},
   "source": [
    "El método produce una secuencia de enteros entre 0 y m-1 de acuerdo a:  \n",
    "$$X_{i+1}=(X_{i} + c) \\hspace{0.10cm} mod \\hspace{0.10cm} m$$  \n",
    "$$i=0,1,2,...$$\n",
    "Donde se tienen los siguientes valores:  \n",
    "$X_0$: Semilla  \n",
    "$c$: Incremento constante.  \n",
    "$m$: Módulo.  \n",
    "$X_n$: Número pseudoaleatorio en el n-ésimo paso.  \n",
    "$X_{n+1}$: Número pseudoaleatorio en el siguiente paso (n+1).\n",
    "El número aleatorio se encuetra de la siguiente manera:\n",
    "R = X / m"
   ]
  },
  {
   "cell_type": "code",
   "execution_count": 1,
   "id": "c1eeec25",
   "metadata": {},
   "outputs": [],
   "source": [
    "# Definición del método de Congruencial Aditivo.\n",
    "def congruence_method(seed, c, m, n, normalized = True):\n",
    "    \"\"\"\n",
    "        Función Generadora de pseudonúmeros aleatorios \n",
    "        por el método de Congruencial Aditivo. \n",
    "        Entrada: seed, c, m, n, normalized.\n",
    "        Salida: random_list\n",
    "    \"\"\"\n",
    "    \n",
    "    # Inicialización de pseudonúmeros aleatorios.\n",
    "    random_list = list()\n",
    "    \n",
    "    # Iteración de n números.\n",
    "    for _ in range(n):\n",
    "        # Congruencia Lineal.\n",
    "        x_i = (seed + c) % m\n",
    "        random_value = x_i\n",
    "        # Normalización.\n",
    "        if normalized:\n",
    "            random_value = random_value / m\n",
    "        # Anexión de valores a lista de pseudonúmeros aleatorios.\n",
    "        random_list.append(random_value)\n",
    "        # Remplazo de semilla.\n",
    "        seed = x_i\n",
    "    \n",
    "    # Retorno de lista de pseudonúmeros aleatorios.\n",
    "    return random_list"
   ]
  },
  {
   "cell_type": "code",
   "execution_count": 2,
   "id": "dd956b5f",
   "metadata": {},
   "outputs": [],
   "source": [
    "# Valores iniciales.\n",
    "seed = 87 \n",
    "c = 16645\n",
    "m = 1234"
   ]
  },
  {
   "cell_type": "code",
   "execution_count": 3,
   "id": "288b60ea",
   "metadata": {},
   "outputs": [
    {
     "name": "stdout",
     "output_type": "stream",
     "text": [
      "[0.5591572123176661, 0.04781199351701783, 0.5364667747163695, 0.025121555915721232, 0.513776337115073, 0.0024311183144246355, 0.49108589951377635, 0.979740680713128, 0.4683954619124797, 0.9570502431118314]\n"
     ]
    }
   ],
   "source": [
    "# Implementación con normalización, con 10 muestras.\n",
    "random_list = congruence_method(seed, c, m, 10)\n",
    "print(random_list)"
   ]
  },
  {
   "cell_type": "code",
   "execution_count": 4,
   "id": "e2b91345",
   "metadata": {},
   "outputs": [
    {
     "name": "stdout",
     "output_type": "stream",
     "text": [
      "[690, 59, 662, 31, 634, 3, 606, 1209, 578, 1181]\n"
     ]
    }
   ],
   "source": [
    "# Implementación sin normalización.\n",
    "random_list = congruence_method(seed, c, m, 10, False)\n",
    "print(random_list)"
   ]
  }
 ],
 "metadata": {
  "kernelspec": {
   "display_name": "Python 3 (ipykernel)",
   "language": "python",
   "name": "python3"
  },
  "language_info": {
   "codemirror_mode": {
    "name": "ipython",
    "version": 3
   },
   "file_extension": ".py",
   "mimetype": "text/x-python",
   "name": "python",
   "nbconvert_exporter": "python",
   "pygments_lexer": "ipython3",
   "version": "3.9.12"
  }
 },
 "nbformat": 4,
 "nbformat_minor": 5
}
