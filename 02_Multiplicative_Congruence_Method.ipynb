{
 "cells": [
  {
   "cell_type": "markdown",
   "id": "adc15439",
   "metadata": {},
   "source": [
    "# Multiplicative congruence method\n",
    "**Date:**   \n",
    "05/11/2023  \n",
    "**Authors:**  \n",
    "- Ojeda Contreras Braulio Melquisedec  \n",
    "- Suárez Pérez Juan Pablo"
   ]
  },
  {
   "cell_type": "markdown",
   "id": "3f39a993",
   "metadata": {},
   "source": [
    "The method produces a sequence of integers between 0 and m-1 according to:\n",
    "$$X_{i+1}=(a * X_{i}) \\hspace{0.10cm} mod \\hspace{0.10cm} m$$\n",
    "$$i=0,1,2,...$$\n",
    "\n",
    "Where you have the following values:  \n",
    "\n",
    "$X_0$: Seed  \n",
    "$a$: Constant multiplier.  \n",
    "$m$: Module.  \n",
    "$X_n$: Pseudorandom number in the nth step.  \n",
    "$X_{n+1}$: Pseudo-random number in the next step (n+1).  \n",
    "\n",
    "The random number is found as follows:\n",
    "\n",
    "$$R = \\frac{X}{m}$$"
   ]
  },
  {
   "cell_type": "code",
   "execution_count": 1,
   "id": "c96e9406",
   "metadata": {},
   "outputs": [],
   "source": [
    "# Import libraries needed.\n",
    "from simulation.generators import multiplicative_method as m_m"
   ]
  },
  {
   "cell_type": "code",
   "execution_count": 2,
   "id": "dd956b5f",
   "metadata": {},
   "outputs": [],
   "source": [
    "# Valores iniciales.\n",
    "seed = 123\n",
    "a = 1664525\n",
    "m = 2 ** 32"
   ]
  },
  {
   "cell_type": "code",
   "execution_count": 3,
   "id": "288b60ea",
   "metadata": {},
   "outputs": [
    {
     "name": "stdout",
     "output_type": "stream",
     "text": [
      "[0.04766894853673875, 0.15656311507336795, 0.21911749779246747, 0.5530130069237202, 0.975349705433473, 0.9684366516303271, 0.017554970225319266, 0.6868142995517701, 0.5719614101108164, 0.06616470660082996]\n"
     ]
    }
   ],
   "source": [
    "# 10 samples with normalization.\n",
    "random_list = m_m(seed, a, m, 10)\n",
    "print(random_list)"
   ]
  },
  {
   "cell_type": "code",
   "execution_count": 4,
   "id": "e2b91345",
   "metadata": {},
   "outputs": [
    {
     "name": "stdout",
     "output_type": "stream",
     "text": [
      "[204736575, 672433459, 941102487, 2375172779, 4189095087, 4159403747, 75398023, 2949844955, 2456555551, 284175251]\n"
     ]
    }
   ],
   "source": [
    "# 10 samples without normalization.\n",
    "random_list = m_m(seed, a, m, 10, False)\n",
    "print(random_list)"
   ]
  }
 ],
 "metadata": {
  "kernelspec": {
   "display_name": "Python 3 (ipykernel)",
   "language": "python",
   "name": "python3"
  },
  "language_info": {
   "codemirror_mode": {
    "name": "ipython",
    "version": 3
   },
   "file_extension": ".py",
   "mimetype": "text/x-python",
   "name": "python",
   "nbconvert_exporter": "python",
   "pygments_lexer": "ipython3",
   "version": "3.11.5"
  }
 },
 "nbformat": 4,
 "nbformat_minor": 5
}
