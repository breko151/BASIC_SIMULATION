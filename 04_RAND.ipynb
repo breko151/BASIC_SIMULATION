{
 "cells": [
  {
   "cell_type": "markdown",
   "id": "fcb8e0f2",
   "metadata": {},
   "source": [
    "# RAND\n",
    "**Date:**   \n",
    "05/11/2023  \n",
    "**Authors:**  \n",
    "- Ojeda Contreras Braulio Melquisedec  \n",
    "- Suárez Pérez Juan Pablo"
   ]
  },
  {
   "cell_type": "markdown",
   "id": "60a813cc",
   "metadata": {},
   "source": [
    "$$X_{n+1} = (7^5)X_nmod(2^{31}-1)$$"
   ]
  },
  {
   "cell_type": "code",
   "execution_count": 1,
   "id": "e5523e82",
   "metadata": {},
   "outputs": [],
   "source": [
    "# Import libraries needed.\n",
    "from simulation.generators import rand"
   ]
  },
  {
   "cell_type": "code",
   "execution_count": 2,
   "id": "072fd2b5",
   "metadata": {},
   "outputs": [],
   "source": [
    "# Initial parameters.\n",
    "seed = 87"
   ]
  },
  {
   "cell_type": "code",
   "execution_count": 3,
   "id": "b96cdf08",
   "metadata": {},
   "outputs": [
    {
     "name": "stdout",
     "output_type": "stream",
     "text": [
      "[0.0006808941255700281, 0.4437875684554631, 0.7376630309678908, 0.902561477340088, 0.35074965485872217, 0.04944921054386031, 0.09288161066029296, 0.06123036754374875, 0.09878730778525924, 0.3182819468520032]\n"
     ]
    }
   ],
   "source": [
    "# 10 samples with normalization.\n",
    "random_list = rand(seed, 10)\n",
    "print(random_list)"
   ]
  },
  {
   "cell_type": "code",
   "execution_count": 4,
   "id": "991229d4",
   "metadata": {},
   "outputs": [
    {
     "name": "stdout",
     "output_type": "stream",
     "text": [
      "[1462209, 953026546, 1584119296, 1938236013, 753229148, 106191371, 199461740, 131491213, 212144128, 683505276]\n"
     ]
    }
   ],
   "source": [
    "# 10 samples without normalization.\n",
    "random_list = rand(seed, 10, False)\n",
    "print(random_list)"
   ]
  }
 ],
 "metadata": {
  "kernelspec": {
   "display_name": "Python 3 (ipykernel)",
   "language": "python",
   "name": "python3"
  },
  "language_info": {
   "codemirror_mode": {
    "name": "ipython",
    "version": 3
   },
   "file_extension": ".py",
   "mimetype": "text/x-python",
   "name": "python",
   "nbconvert_exporter": "python",
   "pygments_lexer": "ipython3",
   "version": "3.11.5"
  }
 },
 "nbformat": 4,
 "nbformat_minor": 5
}
