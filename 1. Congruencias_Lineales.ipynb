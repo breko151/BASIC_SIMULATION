{
 "cells": [
  {
   "cell_type": "markdown",
   "id": "1d869474",
   "metadata": {},
   "source": [
    "# Método de congruencia lineal\n",
    "7AM1  \n",
    "Suárez Pérez Juan Pablo"
   ]
  },
  {
   "cell_type": "markdown",
   "id": "f73a63fe",
   "metadata": {},
   "source": [
    "El método produce una secuencia de enteros entre 0 y m-1 de acuerdo a:  \n",
    "$$X_{i+1}=(a * X_{i} + c) \\hspace{0.10cm} mod \\hspace{0.10cm} m$$  \n",
    "$$i=0,1,2,...$$\n",
    "Donde se tienen los siguientes valores:  \n",
    "$X_0$: Semilla  \n",
    "$a$: Multiplicador constante.  \n",
    "$c$: Incremento.  \n",
    "$m$: Módulo.  \n",
    "El número aleatorio se encuetra de la siguiente manera:\n",
    "R = X / m"
   ]
  },
  {
   "cell_type": "code",
   "execution_count": 1,
   "id": "c2bc99c6",
   "metadata": {},
   "outputs": [],
   "source": [
    "# Definición del método de Congruencia Lineal.\n",
    "def congruence_method(seed, a, c, m, n, normalized = True):\n",
    "    \"\"\"\n",
    "        Función Generadora de pseudonúmeros aleatorios \n",
    "        por el método de Congruencia Lineal. \n",
    "        Entrada: seed, a, c, m, n.\n",
    "        Salida: random_list\n",
    "    \"\"\"\n",
    "    \n",
    "    # Inicialización de pseudonúmeros aleatorios.\n",
    "    random_list = list()\n",
    "    \n",
    "    # Iteración de n números.\n",
    "    for _ in range(n):\n",
    "        # Congruencia Lineal.\n",
    "        x_i = (a * seed + c) % m\n",
    "        # Normalización.\n",
    "        if normalized:\n",
    "            random_value = x_i / m\n",
    "        else: \n",
    "            random_value = x_i\n",
    "        # Anexión de valores a lista de pseudonúmeros aleatorios.\n",
    "        random_list.append(random_value)\n",
    "        # Remplazo de semilla.\n",
    "        seed = x_i\n",
    "    \n",
    "    # Retorno de lista de pseudonúmeros aleatorios.\n",
    "    return random_list"
   ]
  },
  {
   "cell_type": "code",
   "execution_count": 2,
   "id": "322ba7d7",
   "metadata": {},
   "outputs": [],
   "source": [
    "# Valores iniciales.\n",
    "seed = 87 \n",
    "a = 1664525\n",
    "c = 1013904223\n",
    "m = 100"
   ]
  },
  {
   "cell_type": "code",
   "execution_count": 3,
   "id": "97b9042b",
   "metadata": {},
   "outputs": [
    {
     "name": "stdout",
     "output_type": "stream",
     "text": [
      "[0.98, 0.73, 0.48, 0.23, 0.98, 0.73, 0.48, 0.23, 0.98, 0.73]\n"
     ]
    }
   ],
   "source": [
    "# Implementación con normalización, con 10 muestras.\n",
    "random_list = congruence_method(seed, a, c, m, 10)\n",
    "print(random_list)"
   ]
  },
  {
   "cell_type": "code",
   "execution_count": 4,
   "id": "7c4be2de",
   "metadata": {},
   "outputs": [
    {
     "name": "stdout",
     "output_type": "stream",
     "text": [
      "[98, 73, 48, 23, 98, 73, 48, 23, 98, 73]\n"
     ]
    }
   ],
   "source": [
    "# Implementación sin normalización.\n",
    "random_list = congruence_method(seed, a, c, m, 10, False)\n",
    "print(random_list)"
   ]
  }
 ],
 "metadata": {
  "kernelspec": {
   "display_name": "Python 3 (ipykernel)",
   "language": "python",
   "name": "python3"
  },
  "language_info": {
   "codemirror_mode": {
    "name": "ipython",
    "version": 3
   },
   "file_extension": ".py",
   "mimetype": "text/x-python",
   "name": "python",
   "nbconvert_exporter": "python",
   "pygments_lexer": "ipython3",
   "version": "3.9.12"
  }
 },
 "nbformat": 4,
 "nbformat_minor": 5
}
