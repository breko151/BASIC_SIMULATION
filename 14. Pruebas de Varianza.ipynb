{
 "cells": [
  {
   "cell_type": "code",
   "execution_count": 1,
   "id": "71f92c8f",
   "metadata": {},
   "outputs": [],
   "source": [
    "value_list = [0.11352, 0.24528, 0.12014, 0.11963, 0.11592, 0.66175,\n",
    "             0.10047, 0.29429, 0.41769, 0.34661, 0.24381, 0.66425,\n",
    "             0.94441, 0.81699, 0.82584, 0.81231, 0.88835, 0.71202,\n",
    "             0.22591, 0.97069, 0.33214, 0.15361, 0.76613, 0.42239,\n",
    "             0.82506, 0.48166, 0.56711, 0.76950, 0.43478, 0.22817]"
   ]
  },
  {
   "cell_type": "code",
   "execution_count": 6,
   "id": "e7a273d8",
   "metadata": {},
   "outputs": [],
   "source": [
    "import numpy as np\n",
    "from scipy import stats"
   ]
  },
  {
   "cell_type": "code",
   "execution_count": 3,
   "id": "cfa1f7f2",
   "metadata": {},
   "outputs": [],
   "source": [
    "value_list = np.array(value_list)"
   ]
  },
  {
   "cell_type": "code",
   "execution_count": 25,
   "id": "da59cba6",
   "metadata": {},
   "outputs": [],
   "source": [
    "var = value_list.var(ddof=1)"
   ]
  },
  {
   "cell_type": "code",
   "execution_count": null,
   "id": "a8c3bdde",
   "metadata": {},
   "outputs": [],
   "source": [
    "def variance_test(array, alpha=0.05):\n",
    "    df = len(array)\n",
    "    chi_2 = stats.chi2.ppf(1 - alpha / 2, df - 1)\n",
    "    chi_1 = stats.chi2.ppf(alpha / 2, df - 1)\n",
    "    lim_inf = chi_1 / (12 * (df - 1))\n",
    "    lim_sup = chi_2 / (12 * (df - 1))\n",
    "    if var >= lim_inf and var <= lim_sup:\n",
    "        return True\n",
    "    else:\n",
    "        return False"
   ]
  },
  {
   "cell_type": "code",
   "execution_count": 19,
   "id": "94a90e17",
   "metadata": {},
   "outputs": [],
   "source": [
    "alpha = 0.05\n",
    "df = 30\n",
    "chi_2 = stats.chi2.ppf(1 - alpha / 2, df - 1)\n",
    "chi_1 = stats.chi2.ppf(alpha / 2, df - 1)"
   ]
  },
  {
   "cell_type": "code",
   "execution_count": 20,
   "id": "63460446",
   "metadata": {},
   "outputs": [],
   "source": [
    "lim_inf = chi_1 / (12 * (df - 1))\n",
    "lim_sup = chi_2 / (12 * (df - 1))"
   ]
  },
  {
   "cell_type": "code",
   "execution_count": 21,
   "id": "38b9fdb2",
   "metadata": {},
   "outputs": [
    {
     "data": {
      "text/plain": [
       "0.046112274986680725"
      ]
     },
     "execution_count": 21,
     "metadata": {},
     "output_type": "execute_result"
    }
   ],
   "source": [
    "lim_inf"
   ]
  },
  {
   "cell_type": "code",
   "execution_count": 22,
   "id": "de3f15d2",
   "metadata": {},
   "outputs": [
    {
     "data": {
      "text/plain": [
       "0.13138587874762792"
      ]
     },
     "execution_count": 22,
     "metadata": {},
     "output_type": "execute_result"
    }
   ],
   "source": [
    "lim_sup"
   ]
  },
  {
   "cell_type": "code",
   "execution_count": 26,
   "id": "ea9c2463",
   "metadata": {},
   "outputs": [
    {
     "name": "stdout",
     "output_type": "stream",
     "text": [
      "True\n"
     ]
    }
   ],
   "source": [
    "if var >= lim_inf and var <= lim_sup:\n",
    "    print(True)\n",
    "else:\n",
    "    print(False)"
   ]
  },
  {
   "cell_type": "markdown",
   "id": "decc3a0e",
   "metadata": {},
   "source": [
    "# Prueba de Forma"
   ]
  },
  {
   "cell_type": "code",
   "execution_count": null,
   "id": "61c3abf3",
   "metadata": {},
   "outputs": [],
   "source": [
    "def form_test(array, limits, alpha=0.05):\n",
    "    rangos = np.digitize(array, bins=limits)\n",
    "    FO, _ = np.histogram(array, bins=limits)\n",
    "    FE = [len(array) / len(limits) for i in range(len(limits))]\n",
    "    restas = list()\n",
    "    for i in range(len(FE)):\n",
    "        restas.append(((FE[i] - FO[i]) ** 2) / FE[i])\n",
    "    restas = np.array(restas)\n",
    "    C = restas.sum()\n",
    "    chi = stats.chi2.ppf(1 - 0.05, len(limits) - 1)\n",
    "    if var >= lim_inf and var <= lim_sup:\n",
    "        return True\n",
    "    else:\n",
    "        return False"
   ]
  },
  {
   "cell_type": "code",
   "execution_count": 36,
   "id": "db2568e8",
   "metadata": {},
   "outputs": [],
   "source": [
    "limites = [0, 0.2, 0.4, 0.6, 0.8, 1.0]\n",
    "rangos = np.digitize(value_list, bins=limites)\n",
    "FO, _ = np.histogram(value_list, bins=limites)  "
   ]
  },
  {
   "cell_type": "code",
   "execution_count": 37,
   "id": "b3131cfc",
   "metadata": {},
   "outputs": [
    {
     "data": {
      "text/plain": [
       "array([6, 7, 5, 5, 7], dtype=int64)"
      ]
     },
     "execution_count": 37,
     "metadata": {},
     "output_type": "execute_result"
    }
   ],
   "source": [
    "FO"
   ]
  },
  {
   "cell_type": "code",
   "execution_count": 44,
   "id": "716ffb0b",
   "metadata": {},
   "outputs": [],
   "source": [
    "FE = [30 / 5 for i in range(5)]"
   ]
  },
  {
   "cell_type": "code",
   "execution_count": 45,
   "id": "df12df96",
   "metadata": {},
   "outputs": [],
   "source": [
    "restas = list()\n",
    "for i in range(len(FE)):\n",
    "    restas.append(((FE[i] - FO[i]) ** 2) / FE[i])\n",
    "restas = np.array(restas)\n",
    "C = restas.sum()"
   ]
  },
  {
   "cell_type": "code",
   "execution_count": 46,
   "id": "1a2c8bd5",
   "metadata": {},
   "outputs": [
    {
     "data": {
      "text/plain": [
       "0.6666666666666666"
      ]
     },
     "execution_count": 46,
     "metadata": {},
     "output_type": "execute_result"
    }
   ],
   "source": [
    "C"
   ]
  },
  {
   "cell_type": "code",
   "execution_count": 47,
   "id": "7f101607",
   "metadata": {},
   "outputs": [],
   "source": [
    "chi = stats.chi2.ppf(1 - 0.05, 4)"
   ]
  },
  {
   "cell_type": "code",
   "execution_count": 48,
   "id": "c0bdb778",
   "metadata": {},
   "outputs": [
    {
     "data": {
      "text/plain": [
       "9.487729036781154"
      ]
     },
     "execution_count": 48,
     "metadata": {},
     "output_type": "execute_result"
    }
   ],
   "source": [
    "chi"
   ]
  }
 ],
 "metadata": {
  "kernelspec": {
   "display_name": "Python 3 (ipykernel)",
   "language": "python",
   "name": "python3"
  },
  "language_info": {
   "codemirror_mode": {
    "name": "ipython",
    "version": 3
   },
   "file_extension": ".py",
   "mimetype": "text/x-python",
   "name": "python",
   "nbconvert_exporter": "python",
   "pygments_lexer": "ipython3",
   "version": "3.11.5"
  }
 },
 "nbformat": 4,
 "nbformat_minor": 5
}
