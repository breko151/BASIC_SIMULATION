{
 "cells": [
  {
   "cell_type": "markdown",
   "id": "adc15439",
   "metadata": {},
   "source": [
    "# Quadratic congruence method\n",
    "**Date:**   \n",
    "06/11/2023  \n",
    "**Authors:**  \n",
    "- Ojeda Contreras Braulio Melquisedec  \n",
    "- Suárez Pérez Juan Pablo"
   ]
  },
  {
   "cell_type": "markdown",
   "id": "3f39a993",
   "metadata": {},
   "source": [
    "The method produces a sequence of integers between 0 and m-1 according to:\n",
    "\n",
    "$$X_{i+1}=(aX_{i}^2 + bX_{i} + c) \\hspace{0.10cm} mod \\hspace{0.10cm} m$$\n",
    "\n",
    "$$i=0,1,2,...$$\n",
    "\n",
    "Where you have the following values:\n",
    "\n",
    "$X_0$: Seed\n",
    "$a, b, c$: positive integers that are the coefficients of the quadratic function.\n",
    "$m$: Module.\n",
    "$X_n$: Pseudorandom number in the nth step.\n",
    "$X_{n+1}$: Pseudo-random number in the next step (n+1).\n",
    "\n",
    "The random number is found as follows:\n",
    "\n",
    "$$R = \\frac{X}{m}$$"
   ]
  },
  {
   "cell_type": "code",
   "execution_count": 1,
   "id": "824d4b55",
   "metadata": {},
   "outputs": [],
   "source": [
    "# Import libraries needed.\n",
    "from simulation.generators import quadratic_method as q_m"
   ]
  },
  {
   "cell_type": "code",
   "execution_count": 2,
   "id": "dd956b5f",
   "metadata": {},
   "outputs": [],
   "source": [
    "# Initial parameters.\n",
    "seed = 87 \n",
    "a = 16634\n",
    "b = 16625\n",
    "c = 16645\n",
    "m = 1234"
   ]
  },
  {
   "cell_type": "code",
   "execution_count": 3,
   "id": "288b60ea",
   "metadata": {},
   "outputs": [
    {
     "name": "stdout",
     "output_type": "stream",
     "text": [
      "[0.7487844408427877, 0.1094003241491086, 0.5429497568881686, 0.619935170178282, 0.1507293354943274, 0.47244732576985415, 0.5056726094003241, 0.8030794165316045, 0.8914100486223663, 0.40437601296596437]\n"
     ]
    }
   ],
   "source": [
    "# 10 samples with normalization.\n",
    "random_list = q_m(seed, a, b, c, m, 10)\n",
    "print(random_list)"
   ]
  },
  {
   "cell_type": "code",
   "execution_count": 4,
   "id": "e2b91345",
   "metadata": {},
   "outputs": [
    {
     "name": "stdout",
     "output_type": "stream",
     "text": [
      "[924, 135, 670, 765, 186, 583, 624, 991, 1100, 499]\n"
     ]
    }
   ],
   "source": [
    "# 10 samples without normalization.\n",
    "random_list = q_m(seed, a, b, c, m, 10, False)\n",
    "print(random_list)"
   ]
  }
 ],
 "metadata": {
  "kernelspec": {
   "display_name": "Python 3 (ipykernel)",
   "language": "python",
   "name": "python3"
  },
  "language_info": {
   "codemirror_mode": {
    "name": "ipython",
    "version": 3
   },
   "file_extension": ".py",
   "mimetype": "text/x-python",
   "name": "python",
   "nbconvert_exporter": "python",
   "pygments_lexer": "ipython3",
   "version": "3.11.5"
  }
 },
 "nbformat": 4,
 "nbformat_minor": 5
}
