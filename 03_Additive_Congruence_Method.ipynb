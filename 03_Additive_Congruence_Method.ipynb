{
 "cells": [
  {
   "cell_type": "markdown",
   "id": "adc15439",
   "metadata": {},
   "source": [
    "# Additive congruence method\n",
    "**Date:**   \n",
    "05/11/2023  \n",
    "**Authors:**  \n",
    "- Ojeda Contreras Braulio Melquisedec  \n",
    "- Suárez Pérez Juan Pablo"
   ]
  },
  {
   "cell_type": "markdown",
   "id": "3f39a993",
   "metadata": {},
   "source": [
    "The method produces a sequence of integers between 0 and m-1 according to:\n",
    "\n",
    "$$X_{i+1}=(X_{i} + c) \\hspace{0.10cm} mod \\hspace{0.10cm} m$$\n",
    "$$i=0,1,2,...$$\n",
    "\n",
    "Where you have the following values:\n",
    "\n",
    "$X_0$: Seed  \n",
    "$c$: Constant increase.  \n",
    "$m$: Module.  \n",
    "$X_n$: Pseudorandom number in the nth step.  \n",
    "$X_{n+1}$: Pseudo-random number in the next step (n+1).  \n",
    "\n",
    "The random number is found as follows:\n",
    "\n",
    "$$R = \\frac{X}{m}$$"
   ]
  },
  {
   "cell_type": "code",
   "execution_count": 1,
   "id": "c1eeec25",
   "metadata": {},
   "outputs": [],
   "source": [
    "# Import libraries needed.\n",
    "from simulation.generators import additive_method as a_m"
   ]
  },
  {
   "cell_type": "code",
   "execution_count": 2,
   "id": "dd956b5f",
   "metadata": {},
   "outputs": [],
   "source": [
    "# Initial parameters.\n",
    "seed = 123\n",
    "c = 1013904223\n",
    "m = 2 ** 32"
   ]
  },
  {
   "cell_type": "code",
   "execution_count": 3,
   "id": "288b60ea",
   "metadata": {},
   "outputs": [
    {
     "name": "stdout",
     "output_type": "stream",
     "text": [
      "[0.23606800148263574, 0.4721359743271023, 0.7082039471715689, 0.9442719200160354, 0.180339892860502, 0.41640786570496857, 0.6524758385494351, 0.8885438113939017, 0.12461178423836827, 0.36067975708283484]\n"
     ]
    }
   ],
   "source": [
    "# 10 samples with normalization.\n",
    "random_list = a_m(seed, c, m, 10)\n",
    "print(random_list)"
   ]
  },
  {
   "cell_type": "code",
   "execution_count": 4,
   "id": "e2b91345",
   "metadata": {},
   "outputs": [
    {
     "name": "stdout",
     "output_type": "stream",
     "text": [
      "[1013904346, 2027808569, 3041712792, 4055617015, 774553942, 1788458165, 2802362388, 3816266611, 535203538, 1549107761]\n"
     ]
    }
   ],
   "source": [
    "# 10 samples without normalization.\n",
    "random_list = a_m(seed, c, m, 10, False)\n",
    "print(random_list)"
   ]
  }
 ],
 "metadata": {
  "kernelspec": {
   "display_name": "Python 3 (ipykernel)",
   "language": "python",
   "name": "python3"
  },
  "language_info": {
   "codemirror_mode": {
    "name": "ipython",
    "version": 3
   },
   "file_extension": ".py",
   "mimetype": "text/x-python",
   "name": "python",
   "nbconvert_exporter": "python",
   "pygments_lexer": "ipython3",
   "version": "3.11.5"
  }
 },
 "nbformat": 4,
 "nbformat_minor": 5
}
