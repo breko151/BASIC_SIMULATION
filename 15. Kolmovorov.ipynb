{
 "cells": [
  {
   "cell_type": "markdown",
   "id": "bcae77d3",
   "metadata": {},
   "source": [
    "# Kolmovorov-Smirnov (Uniformidad)\n",
    "1. Generar 'n' números pseudoaleatorios uniformes.  \n",
    "2. Ordenar dichos números en orden ascendete.  \n",
    "3. Calcular la distribución acumulada de los números generados, através de la siguiente expresión: $F_n(x)=\\frac{i}{n}$  \n",
    "$i \\rightarrow$ Posición de $x_i(ordenado) $  \n",
    "$n \\rightarrow$ Cantidad de números Pseudo...\n",
    "4. Calcular el estadístico Kolmogorov-Smirnov del modulo siguiente:  \n",
    "$$D_n=max(F_n(x_i)-x_i)$$\n",
    "5. Si $D_n<D_{a, n} \\rightarrow$  Acepta la $H_0$ \n",
    "\n",
    "Sea:  \n",
    "0.36, 0.82, 0.54, 0.34, 0.76, 0.94, 0.72, 0.65, 0.03, 0.18"
   ]
  },
  {
   "cell_type": "markdown",
   "id": "36df2b47",
   "metadata": {},
   "source": [
    "alpha = 0.05"
   ]
  },
  {
   "cell_type": "code",
   "execution_count": 1,
   "id": "892af62f",
   "metadata": {},
   "outputs": [],
   "source": [
    "num = [0.36, 0.82, 0.54, 0.39, 0.76, 0.94, 0.72, 0.65, 0.03, 0.18]"
   ]
  },
  {
   "cell_type": "code",
   "execution_count": 2,
   "id": "7d6db918",
   "metadata": {},
   "outputs": [],
   "source": [
    "num_sorted = sorted(num)"
   ]
  },
  {
   "cell_type": "code",
   "execution_count": 3,
   "id": "68ecfac7",
   "metadata": {},
   "outputs": [
    {
     "data": {
      "text/plain": [
       "[0.03, 0.18, 0.36, 0.39, 0.54, 0.65, 0.72, 0.76, 0.82, 0.94]"
      ]
     },
     "execution_count": 3,
     "metadata": {},
     "output_type": "execute_result"
    }
   ],
   "source": [
    "num_sorted"
   ]
  },
  {
   "cell_type": "code",
   "execution_count": 4,
   "id": "ec725214",
   "metadata": {},
   "outputs": [],
   "source": [
    "f = [i/len(num_sorted) for i in range(1, len(num_sorted) + 1) ]"
   ]
  },
  {
   "cell_type": "code",
   "execution_count": 5,
   "id": "657ae9aa",
   "metadata": {},
   "outputs": [
    {
     "data": {
      "text/plain": [
       "[0.1, 0.2, 0.3, 0.4, 0.5, 0.6, 0.7, 0.8, 0.9, 1.0]"
      ]
     },
     "execution_count": 5,
     "metadata": {},
     "output_type": "execute_result"
    }
   ],
   "source": [
    "f"
   ]
  },
  {
   "cell_type": "code",
   "execution_count": 6,
   "id": "4400dd84",
   "metadata": {},
   "outputs": [],
   "source": [
    "resta = [abs(f[i] - num_sorted[i]) for i in range(len(f))]"
   ]
  },
  {
   "cell_type": "code",
   "execution_count": 7,
   "id": "6dcecabb",
   "metadata": {},
   "outputs": [
    {
     "data": {
      "text/plain": [
       "[0.07,\n",
       " 0.020000000000000018,\n",
       " 0.06,\n",
       " 0.010000000000000009,\n",
       " 0.040000000000000036,\n",
       " 0.050000000000000044,\n",
       " 0.020000000000000018,\n",
       " 0.040000000000000036,\n",
       " 0.08000000000000007,\n",
       " 0.06000000000000005]"
      ]
     },
     "execution_count": 7,
     "metadata": {},
     "output_type": "execute_result"
    }
   ],
   "source": [
    "resta"
   ]
  },
  {
   "cell_type": "code",
   "execution_count": 8,
   "id": "74c64e0b",
   "metadata": {},
   "outputs": [],
   "source": [
    "dmax = max(resta)"
   ]
  },
  {
   "cell_type": "code",
   "execution_count": 9,
   "id": "47cc59f8",
   "metadata": {},
   "outputs": [
    {
     "data": {
      "text/plain": [
       "0.08000000000000007"
      ]
     },
     "execution_count": 9,
     "metadata": {},
     "output_type": "execute_result"
    }
   ],
   "source": [
    "dmax"
   ]
  },
  {
   "cell_type": "code",
   "execution_count": 10,
   "id": "015714c3",
   "metadata": {},
   "outputs": [],
   "source": [
    "d = 0.41"
   ]
  },
  {
   "cell_type": "code",
   "execution_count": 11,
   "id": "ad637e66",
   "metadata": {},
   "outputs": [
    {
     "data": {
      "text/plain": [
       "True"
      ]
     },
     "execution_count": 11,
     "metadata": {},
     "output_type": "execute_result"
    }
   ],
   "source": [
    "dmax < d"
   ]
  },
  {
   "cell_type": "code",
   "execution_count": 12,
   "id": "c3eb2222",
   "metadata": {},
   "outputs": [
    {
     "name": "stdout",
     "output_type": "stream",
     "text": [
      "Requirement already satisfied: scipy in c:\\users\\usuario dell\\anaconda3\\envs\\basic_simulation_class\\lib\\site-packages (1.11.1)\n",
      "Requirement already satisfied: numpy<1.28.0,>=1.21.6 in c:\\users\\usuario dell\\anaconda3\\envs\\basic_simulation_class\\lib\\site-packages (from scipy) (1.26.0)\n"
     ]
    }
   ],
   "source": [
    "!pip install scipy"
   ]
  },
  {
   "cell_type": "code",
   "execution_count": 13,
   "id": "41d4090d",
   "metadata": {},
   "outputs": [],
   "source": [
    "from scipy import stats"
   ]
  },
  {
   "cell_type": "code",
   "execution_count": 14,
   "id": "50e69883",
   "metadata": {},
   "outputs": [],
   "source": [
    "def kolmovorov(num, alpha):\n",
    "    num_sorted = sorted(num)\n",
    "    f = [i/len(num_sorted) for i in range(1, len(num_sorted) + 1)]\n",
    "    resta = [abs(f[i] - num_sorted[i]) for i in range(len(f))]\n",
    "    dmax = max(resta)\n",
    "    d = stats.ksone.interval(1 - alpha, len(num))[1]\n",
    "    return dmax < d"
   ]
  },
  {
   "cell_type": "code",
   "execution_count": 15,
   "id": "3622037f",
   "metadata": {},
   "outputs": [
    {
     "data": {
      "text/plain": [
       "True"
      ]
     },
     "execution_count": 15,
     "metadata": {},
     "output_type": "execute_result"
    }
   ],
   "source": [
    "kolmovorov(num_sorted, 0.05)"
   ]
  }
 ],
 "metadata": {
  "kernelspec": {
   "display_name": "Python 3 (ipykernel)",
   "language": "python",
   "name": "python3"
  },
  "language_info": {
   "codemirror_mode": {
    "name": "ipython",
    "version": 3
   },
   "file_extension": ".py",
   "mimetype": "text/x-python",
   "name": "python",
   "nbconvert_exporter": "python",
   "pygments_lexer": "ipython3",
   "version": "3.11.5"
  }
 },
 "nbformat": 4,
 "nbformat_minor": 5
}
