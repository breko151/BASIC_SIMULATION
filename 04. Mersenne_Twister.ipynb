{
 "cells": [
  {
   "cell_type": "markdown",
   "id": "472a5429",
   "metadata": {},
   "source": [
    "# Mersenne Twister\n",
    "6AM1  \n",
    "Suárez Pérez Juan Pablo"
   ]
  },
  {
   "cell_type": "markdown",
   "id": "e1ac7447",
   "metadata": {},
   "source": [
    "Mersenne Twister es un algoritmo de generación de números, desarrollado por Makoto Matsumoto y Takuji Nishimira en 1997. Es conocido por la buena calidad estadística y su periodo extramadamente largo. El nombre proviene de los números primos Mersenne y la operación de torsión que se aplica para la generación de números. Los pasos para la generación de números es el siguiente:  \n",
    "1. Inicialización: Elección de semilla.  \n",
    "2. Generación de números pseudoaletorios: El proceso se lleva a cabo de la siguiente forma:  \n",
    "    a. Se toma un número interno del estado actual del generador (valor de 32 bits).  \n",
    "    b. Operaciones matemáticas aplicadas al número interno para calcular el siguiente número.  \n",
    "    c. Se almacena este nuevo número en el estado interno para su futuro uso.  \n",
    "    d. Se devuelve como número pseudoaleatior para uso de la aplicación.  \n",
    "3. Repetición."
   ]
  },
  {
   "cell_type": "code",
   "execution_count": 1,
   "id": "01c2ad35",
   "metadata": {},
   "outputs": [],
   "source": [
    "# Abstracción de Mersenne Twister.\n",
    "class MersenneTwister:\n",
    "    \"\"\"\n",
    "        Generador de Mersenne Twister.\n",
    "        Entrada: Seed\n",
    "    \"\"\"\n",
    "    \n",
    "    # Inicialización Clase.\n",
    "    def __init__(self, seed):\n",
    "        # Generación de state.\n",
    "        self.state = [0] * 624\n",
    "        self.index = 0\n",
    "        self.state[0] = seed & 0xFFFFFFFF\n",
    "        for i in range(1, 624):\n",
    "            self.state[i] = (0x6C078965 * (self.state[i - 1] ^ (self.state[i - 1] >> 30)) + i) & 0xFFFFFFFF\n",
    "\n",
    "    # Generación de números aleatorios. \n",
    "    def generate_numbers(self):\n",
    "        if self.index == 0:\n",
    "            self.twist()\n",
    "\n",
    "        y = self.state[self.index]\n",
    "        y = y ^ (y >> 11)\n",
    "        y = y ^ ((y << 7) & 0x9D2C5680)\n",
    "        y = y ^ ((y << 15) & 0xEFC60000)\n",
    "        y = y ^ (y >> 18)\n",
    "\n",
    "        self.index = (self.index + 1) % 624\n",
    "        return y\n",
    "\n",
    "    # Operación twist.\n",
    "    def twist(self):\n",
    "        for i in range(624):\n",
    "            y = (self.state[i] & 0x80000000) + (self.state[(i + 1) % 624] & 0x7FFFFFFF)\n",
    "            self.state[i] = self.state[(i + 397) % 624] ^ (y >> 1)\n",
    "            if y % 2 != 0:\n",
    "                self.state[i] = self.state[i] ^ 0x9908B0DF"
   ]
  },
  {
   "cell_type": "code",
   "execution_count": 2,
   "id": "9b262cc2",
   "metadata": {},
   "outputs": [],
   "source": [
    "def mersennetwister_method(seed, n):\n",
    "    \"\"\"\n",
    "        Implementación del método Mersenne Twister, generando números en su forma decimal.\n",
    "        Entrada: seed.\n",
    "        Salida: random_list\n",
    "    \"\"\"\n",
    "    # Inicialización de números pseudoaleatorios.\n",
    "    random_list = list()\n",
    "    # Inicialización de Objeto MersenneTwister.\n",
    "    mt = MersenneTwister(seed)\n",
    "    # Generación de valores pseudoaleatorios.\n",
    "    for _ in range(n):\n",
    "        random_value = mt.generate_numbers()\n",
    "        # Anexión de los valores.\n",
    "        random_list.append(random_value)\n",
    "    return random_list"
   ]
  },
  {
   "cell_type": "code",
   "execution_count": 3,
   "id": "94a719ec",
   "metadata": {},
   "outputs": [],
   "source": [
    "# Valores iniciales.\n",
    "seed = 5489 "
   ]
  },
  {
   "cell_type": "code",
   "execution_count": 4,
   "id": "abd44825",
   "metadata": {},
   "outputs": [
    {
     "name": "stdout",
     "output_type": "stream",
     "text": [
      "[3499211612, 581869302, 3890346734, 3586334585, 545404204, 4161255391, 3922919429, 949333985, 2715962298, 1323567403]\n"
     ]
    }
   ],
   "source": [
    "# Implementación con 10 muestras.\n",
    "random_list = mersennetwister_method(seed, 10)\n",
    "print(random_list)"
   ]
  }
 ],
 "metadata": {
  "kernelspec": {
   "display_name": "Python 3 (ipykernel)",
   "language": "python",
   "name": "python3"
  },
  "language_info": {
   "codemirror_mode": {
    "name": "ipython",
    "version": 3
   },
   "file_extension": ".py",
   "mimetype": "text/x-python",
   "name": "python",
   "nbconvert_exporter": "python",
   "pygments_lexer": "ipython3",
   "version": "3.11.5"
  }
 },
 "nbformat": 4,
 "nbformat_minor": 5
}
