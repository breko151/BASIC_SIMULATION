{
 "cells": [
  {
   "cell_type": "markdown",
   "id": "1d869474",
   "metadata": {},
   "source": [
    "# Linear congruence method\n",
    "**Date:**   \n",
    "16/10/2023  \n",
    "**Authors:**  \n",
    "- Ojeda Contreras Braulio Melquisedec  \n",
    "- Suárez Pérez Juan Pablo"
   ]
  },
  {
   "cell_type": "markdown",
   "id": "f73a63fe",
   "metadata": {},
   "source": [
    "El método produce una secuencia de enteros entre 0 y m-1 de acuerdo a:  \n",
    "$$X_{i+1}=(a * X_{i} + c) \\hspace{0.10cm} mod \\hspace{0.10cm} m$$  \n",
    "$$i=0,1,2,...$$\n",
    "Donde se tienen los siguientes valores:  \n",
    "$X_0$: Semilla  \n",
    "$a$: Multiplicador constante.  \n",
    "$c$: Incremento.  \n",
    "$m$: Módulo.  \n",
    "El número aleatorio se encuetra de la siguiente manera:\n",
    "$$R = \\frac{X}{m}$$"
   ]
  },
  {
   "cell_type": "code",
   "execution_count": 6,
   "id": "651686ac",
   "metadata": {},
   "outputs": [],
   "source": [
    "# Import libraries needed.\n",
    "from simulation.generators import congruence_method as c_m"
   ]
  },
  {
   "cell_type": "code",
   "execution_count": 2,
   "id": "09361bc3",
   "metadata": {},
   "outputs": [],
   "source": [
    "# Initial parameters.\n",
    "seed = 87 \n",
    "a = 1664525\n",
    "c = 1013904223\n",
    "m = 100"
   ]
  },
  {
   "cell_type": "code",
   "execution_count": 3,
   "id": "c2bc99c6",
   "metadata": {},
   "outputs": [],
   "source": [
    "# Definición del método de Congruencia Lineal.\n",
    "def congruence_method(seed, a, c, m, n, normalized = True):\n",
    "    \"\"\"\n",
    "        Función Generadora de pseudonúmeros aleatorios \n",
    "        por el método de Congruencia Lineal. \n",
    "        Entrada: seed, a, c, m, n, normalized.\n",
    "        Salida: random_list\n",
    "    \"\"\"\n",
    "    \n",
    "    # Inicialización de pseudonúmeros aleatorios.\n",
    "    random_list = list()\n",
    "    \n",
    "    # Iteración de n números.\n",
    "    for _ in range(n):\n",
    "        # Congruencia Lineal.\n",
    "        x_i = (a * seed + c) % m\n",
    "        random_value = x_i\n",
    "        # Normalización.\n",
    "        if normalized:\n",
    "            random_value = random_value / m\n",
    "        # Anexión de valores a lista de pseudonúmeros aleatorios.\n",
    "        random_list.append(random_value)\n",
    "        # Remplazo de semilla.\n",
    "        seed = x_i\n",
    "    \n",
    "    # Retorno de lista de pseudonúmeros aleatorios.\n",
    "    return random_list"
   ]
  },
  {
   "cell_type": "code",
   "execution_count": 4,
   "id": "97b9042b",
   "metadata": {},
   "outputs": [
    {
     "name": "stdout",
     "output_type": "stream",
     "text": [
      "[0.98, 0.73, 0.48, 0.23, 0.98, 0.73, 0.48, 0.23, 0.98, 0.73]\n"
     ]
    }
   ],
   "source": [
    "# Implementación con normalización, con 10 muestras.\n",
    "random_list = congruence_method(seed, a, c, m, 10)\n",
    "print(random_list)"
   ]
  },
  {
   "cell_type": "code",
   "execution_count": 5,
   "id": "7c4be2de",
   "metadata": {},
   "outputs": [
    {
     "name": "stdout",
     "output_type": "stream",
     "text": [
      "[98, 73, 48, 23, 98, 73, 48, 23, 98, 73]\n"
     ]
    }
   ],
   "source": [
    "# Implementación sin normalización.\n",
    "random_list = congruence_method(seed, a, c, m, 10, False)\n",
    "print(random_list)"
   ]
  },
  {
   "cell_type": "code",
   "execution_count": 9,
   "id": "709f4da2",
   "metadata": {},
   "outputs": [],
   "source": [
    "random_list = c_m(seed, a, c, m, 10, False)"
   ]
  },
  {
   "cell_type": "code",
   "execution_count": 10,
   "id": "8d8455c7",
   "metadata": {},
   "outputs": [
    {
     "data": {
      "text/plain": [
       "[98, 73, 48, 23, 98, 73, 48, 23, 98, 73]"
      ]
     },
     "execution_count": 10,
     "metadata": {},
     "output_type": "execute_result"
    }
   ],
   "source": [
    "random_list"
   ]
  },
  {
   "cell_type": "code",
   "execution_count": 5,
   "id": "44dca7e8",
   "metadata": {},
   "outputs": [],
   "source": [
    "# Identificación  de patrones\n",
    "def pattern_identifier(random_list, num_consider = 2):\n",
    "    \"\"\"\n",
    "        Identificador de patrones en lista de pseudonúmeros aleatorios. \n",
    "        Entrada: random_list, num_consider\n",
    "        Salida: pos\n",
    "    \"\"\"\n",
    "    # Obtenemos el patron.\n",
    "    pattern = random_list[:num_consider]\n",
    "    # Inicializamos el valor de posición. \n",
    "    pos = 0\n",
    "    # Buscamos patrón.\n",
    "    for i in range(num_consider, len(random_list)):\n",
    "        temporal = [random_list[i + j] for j in range(num_consider)]\n",
    "        if temporal == pattern:\n",
    "            pos = i\n",
    "            break\n",
    "    return pos"
   ]
  },
  {
   "cell_type": "code",
   "execution_count": 6,
   "id": "7505884a",
   "metadata": {},
   "outputs": [],
   "source": [
    "# Guardamos la información en un archivo TXT\n",
    "def save_information(method, values, pos, n):\n",
    "    with open(method + '.txt', 'a') as file:\n",
    "        file.write(f\"Parámetros de entrada: {values}, Muestro: {n}, Posición de repetición: {pos}\\n\")"
   ]
  },
  {
   "cell_type": "code",
   "execution_count": 9,
   "id": "d0bfea99",
   "metadata": {},
   "outputs": [],
   "source": [
    "# Implementación sin normalización con 1000.\n",
    "random_list = congruence_method(seed, a, c, m, 12, False)\n",
    "pos = pattern_identifier(random_list)\n",
    "save_information(\"Congruencias_lineales\", [seed, a, c, m], pos, 12)"
   ]
  },
  {
   "cell_type": "code",
   "execution_count": 10,
   "id": "9b4eba9a",
   "metadata": {},
   "outputs": [
    {
     "data": {
      "text/plain": [
       "Text(0.5, 1.0, 'Histograma de Números Pseudoaleatorios')"
      ]
     },
     "execution_count": 10,
     "metadata": {},
     "output_type": "execute_result"
    },
    {
     "data": {
      "image/png": "[encoded data removed]",
      "text/plain": [
       "<Figure size 432x288 with 1 Axes>"
      ]
     },
     "metadata": {
      "needs_background": "light"
     },
     "output_type": "display_data"
    }
   ],
   "source": [
    "import matplotlib.pyplot as plt\n",
    "\n",
    "# Crea un histograma\n",
    "plt.hist(random_list, bins=10, color='skyblue', alpha=0.7)\n",
    "\n",
    "# Agrega etiquetas y título al gráfico\n",
    "plt.xlabel('Valor')\n",
    "plt.ylabel('Frecuencia')\n",
    "plt.title('Histograma de Números Pseudoaleatorios')"
   ]
  }
 ],
 "metadata": {
  "kernelspec": {
   "display_name": "Python 3 (ipykernel)",
   "language": "python",
   "name": "python3"
  },
  "language_info": {
   "codemirror_mode": {
    "name": "ipython",
    "version": 3
   },
   "file_extension": ".py",
   "mimetype": "text/x-python",
   "name": "python",
   "nbconvert_exporter": "python",
   "pygments_lexer": "ipython3",
   "version": "3.11.5"
  }
 },
 "nbformat": 4,
 "nbformat_minor": 5
}
